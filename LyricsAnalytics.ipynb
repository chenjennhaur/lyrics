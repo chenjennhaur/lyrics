{
 "cells": [
  {
   "cell_type": "code",
   "execution_count": 1,
   "metadata": {
    "collapsed": true
   },
   "outputs": [],
   "source": [
    "from bs4 import BeautifulSoup\n",
    "import time\n",
    "from random import randint\n",
    "import pandas as pd\n",
    "import re\n",
    "import sqlite3\n",
    "import numpy as np\n",
    "import spacy"
   ]
  },
  {
   "cell_type": "code",
   "execution_count": 2,
   "metadata": {
    "collapsed": true
   },
   "outputs": [],
   "source": [
    "conn = sqlite3.connect('lyrics.db')"
   ]
  },
  {
   "cell_type": "code",
   "execution_count": 3,
   "metadata": {
    "collapsed": true
   },
   "outputs": [],
   "source": [
    "nlp = spacy.load('en')"
   ]
  },
  {
   "cell_type": "markdown",
   "metadata": {},
   "source": [
    "## Clean Lyrics Database"
   ]
  },
  {
   "cell_type": "code",
   "execution_count": 4,
   "metadata": {
    "collapsed": true
   },
   "outputs": [],
   "source": [
    "records = pd.read_sql_query(\"select * from lyrics_abc where valid = 1;\",conn)"
   ]
  },
  {
   "cell_type": "code",
   "execution_count": 35,
   "metadata": {
    "collapsed": true
   },
   "outputs": [],
   "source": [
    "# allrecords = pd.read_sql_query(\"select * from lyrics_abc;\",conn)\n",
    "# allrecords['duplicate'] = allrecords['url'].duplicated()\n",
    "\n",
    "# def update(x):\n",
    "#     if(x['duplicate']==True)&(x['status']==0):\n",
    "#         return 1\n",
    "#     elif x['status'] == 1 : \n",
    "#         return 1\n",
    "#     else : return 0\n",
    "\n",
    "# allrecords['new_status'] = allrecords.apply(lambda x: update(x),axis=1)\n",
    "# allrecords['status'] = allrecords['new_status']\n",
    "# del allrecords['new_status']\n",
    "\n",
    "# allrecords[allrecords['url']=='http://cyberhymnal.org/htm/b/e/beautxms.htm']\n",
    "# print('scrapped:',allrecords[allrecords['status']==1]['status'].count())\n",
    "# print('not scrapped:',allrecords[allrecords['status']==0]['status'].count())\n",
    "# print('total:',allrecords['status'].count())\n",
    "# del allrecords['duplicate']\n",
    "\n",
    "# allrecords.to_sql('lyrics_abc',conn,if_exists='replace')"
   ]
  },
  {
   "cell_type": "code",
   "execution_count": 72,
   "metadata": {
    "collapsed": true
   },
   "outputs": [],
   "source": [
    "# def update(x):\n",
    "#     if x['fullhtml'] is None:\n",
    "#         return 0\n",
    "#     elif x['song_name'] == \"  Page not found - CyberHymnal\" :\n",
    "#         return 0\n",
    "#     else :\n",
    "#         return 1\n",
    "\n",
    "# records[records['fullhtml'].notnull()]\n",
    "# records.iloc[7692]['song_name']\n",
    "# records['valid'] = records.apply(lambda x:update(x),axis=1)\n",
    "# records.to_sql('lyrics_abc',conn,if_exists='replace')"
   ]
  },
  {
   "cell_type": "code",
   "execution_count": 75,
   "metadata": {
    "collapsed": true
   },
   "outputs": [],
   "source": [
    "columns = ['key','title','composer_music','music_year','composer_lyrics','lyrics_year','lyrics']\n",
    "df = pd.DataFrame(columns=columns)\n",
    "\n",
    "for reckey,record in records.iterrows():\n",
    "    soup = BeautifulSoup(record['fullhtml'],\"lxml\")\n",
    "    key = reckey\n",
    "    title = soup.title.get_text()\n",
    "    #print(title,\" \",key)\n",
    "    \n",
    "    composer = re.findall(\"Words:(.*) Music:(.*?)\\\"\",record['meta'])\n",
    "    if len(composer) > 0 :\n",
    "        music = re.findall(\"[ ]?(.*?)[,.].*\",composer[0][1])\n",
    "        #music = re.findall(\"(.*)[,.].*\",composer[0][1])\n",
    "        music_yr = re.findall(\".*(\\d{4})\",composer[0][1])\n",
    "        composer_music = music[0] if len(music) > 0 else 0\n",
    "        music_year = music_yr[0] if len(music_yr) > 0 else 0\n",
    "        #print(\"Music:\",composer_music)\n",
    "        #print(\"Year:\",music_year)\n",
    "\n",
    "\n",
    "        words = re.findall(\"[ ]?(.*?),.*\",composer[0][0])\n",
    "        words_year = re.findall(\".*(\\d{4})\",composer[0][0])   \n",
    "\n",
    "        composer_lyrics = words[0] if len(words) > 0 else 0\n",
    "        lyrics_year = words_year[0] if len(words_year) > 0 else 0\n",
    "        #print(\"Lyrics:\",composer_lyrics)\n",
    "        #print(\"Year:\",lyrics_year)\n",
    "    else : \n",
    "        composer_lyrics = \"\"\n",
    "        lyrics_year = 0 \n",
    "        composer_music = \"\"\n",
    "        music_year = 0 \n",
    "          \n",
    "    lyrics = BeautifulSoup(record['lyrics'],\"lxml\").get_text()\n",
    "    #print(lyrics)\n",
    "    \n",
    "    row = [key,title,composer_music,music_year,composer_lyrics,lyrics_year,lyrics]\n",
    "    #print(composer)\n",
    "    #print([composer_music,music_year,composer_lyrics,lyrics_year])\n",
    "    df.loc[len(df)] = row \n",
    "    \n",
    "    \n",
    "    #print('--------------------------')\n",
    "df.to_sql('cleaned_lyrics',conn,if_exists='replace')"
   ]
  },
  {
   "cell_type": "markdown",
   "metadata": {},
   "source": [
    "## Analyze Database"
   ]
  },
  {
   "cell_type": "code",
   "execution_count": 5,
   "metadata": {
    "collapsed": true
   },
   "outputs": [],
   "source": [
    "records = pd.read_sql_query(\"select * from cleaned_lyrics;\",conn)"
   ]
  },
  {
   "cell_type": "code",
   "execution_count": 21,
   "metadata": {},
   "outputs": [
    {
     "name": "stdout",
     "output_type": "stream",
     "text": [
      "\n",
      "“Abba, Father!” We approach Thee\r\n",
      "In our Savior’s precious Name;\r\n",
      "We, Thy children, here assembled,\r\n",
      "Now Thy promised blessing claim;\r\n",
      "From our sins His blood hath washed us,\r\n",
      "’Tis through Him our souls draw nigh,\r\n",
      "And Thy Spirit, too, hath taught us,\r\n",
      "“Abba, Father,” thus to cry.\n",
      "Once as prodigals we wandered\r\n",
      "In our folly far from Thee,\r\n",
      "But Thy grace, o’er sin abounding,\r\n",
      "Rescued us from misery;\r\n",
      "Thou Thy prodigals hast pardoned,\r\n",
      "Kissed us with a Father’s love,\r\n",
      "Spread the festive board, and called us,\r\n",
      "E’er to dwell with Thee above.\n",
      "Clothed in garments of salvation,\r\n",
      "At Thy table is our place,\r\n",
      "We rejoice, and Thou rejoicest,\r\n",
      "In the riches of Thy grace;\r\n",
      "“It is meet,” we hear Thee saying,\r\n",
      "“We should merry and be glad,\r\n",
      "I have found My once lost children,\r\n",
      "Now they live who once were dead.”\n",
      "“Abba, Father!” all adore Thee,\r\n",
      "All rejoice in Heav’n above,\r\n",
      "While in us they learn the wonders\r\n",
      "Of Thy wisdom, grace, and love;\r\n",
      "Soon before Thy throne assembled,\r\n",
      "All Thy children shall proclaim,\r\n",
      "“Glory, everlasting glory,\r\n",
      "Be to God and to the Lamb!”\n",
      "\n",
      " “Abba, Father!” We approach Thee In our Savior’s precious Name; We, Thy children, here assembled, Now Thy promised blessing claim; From our sins His blood hath washed us, ’Tis through Him our souls draw nigh, And Thy Spirit, too, hath taught us, “Abba, Father,” thus to cry. Once as prodigals we wandered In our folly far from Thee, But Thy grace, o’er sin abounding, Rescued us from misery; Thou Thy prodigals hast pardoned, Kissed us with a Father’s love, Spread the festive board, and called us, E’er to dwell with Thee above. Clothed in garments of salvation, At Thy table is our place, We rejoice, and Thou rejoicest, In the riches of Thy grace; “It is meet,” we hear Thee saying, “We should merry and be glad, I have found My once lost children, Now they live who once were dead.” “Abba, Father!” all adore Thee, All rejoice in Heav’n above, While in us they learn the wonders Of Thy wisdom, grace, and love; Soon before Thy throne assembled, All Thy children shall proclaim, “Glory, everlasting glory, Be to God and to the Lamb!” \n"
     ]
    }
   ],
   "source": [
    "lyrics = records['lyrics'][0]\n",
    "print(lyrics)\n",
    "clean_lyrics = lyrics.replace('\\r\\n',' ').replace('\\n',' ')\n",
    "print(clean_lyrics)"
   ]
  },
  {
   "cell_type": "code",
   "execution_count": 22,
   "metadata": {},
   "outputs": [
    {
     "name": "stdout",
     "output_type": "stream",
     "text": [
      "['\\n', 'Abba', 'Father', 'approach', 'Thee', '\\r\\n', 'Savior', '’s', 'precious', '\\r\\n', 'Thy', 'children', 'assembled', '\\r\\n', 'Thy', 'promised', 'blessing', 'claim', '\\r\\n', 'sins', 'blood', 'hath', 'washed', '\\r\\n', '’Tis', 'souls', 'draw', 'nigh', '\\r\\n', 'Thy', 'Spirit', 'hath', 'taught', '\\r\\n', 'Abba', 'Father', 'cry', '\\n', 'prodigals', 'wandered', '\\r\\n', 'folly', 'far', 'Thee', '\\r\\n', 'Thy', 'grace', 'o’er', 'sin', 'abounding', '\\r\\n', 'Rescued', 'misery', '\\r\\n', 'Thou', 'Thy', 'prodigals', 'hast', 'pardoned', '\\r\\n', 'Kissed', 'Father', '’s', 'love', '\\r\\n', 'Spread', 'festive', 'board', 'called', '\\r\\n', 'E’er', 'dwell', 'Thee', '\\n', 'Clothed', 'garments', 'salvation', '\\r\\n', 'Thy', 'table', 'place', '\\r\\n', 'rejoice', 'Thou', 'rejoicest', '\\r\\n', 'riches', 'Thy', 'grace', '\\r\\n', 'meet', 'hear', 'Thee', 'saying', '\\r\\n', 'merry', 'glad', '\\r\\n', 'found', 'lost', 'children', '\\r\\n', 'live', 'dead', '\\n', 'Abba', 'Father', 'adore', 'Thee', '\\r\\n', 'rejoice', 'Heav’n', '\\r\\n', 'learn', 'wonders', '\\r\\n', 'Thy', 'wisdom', 'grace', 'love', '\\r\\n', 'Soon', 'Thy', 'throne', 'assembled', '\\r\\n', 'Thy', 'children', 'shall', 'proclaim', '\\r\\n', 'Glory', 'everlasting', 'glory', '\\r\\n', 'God', 'Lamb', '\\n']\n",
      "------------------\n",
      "[' ', 'Abba', 'Father', 'approach', 'Thee', 'Savior', '’s', 'precious', 'Thy', 'children', 'assembled', 'Thy', 'promised', 'blessing', 'claim', 'sins', 'blood', 'hath', 'washed', '’Tis', 'souls', 'draw', 'nigh', 'Thy', 'Spirit', 'hath', 'taught', 'Abba', 'Father', 'cry', 'prodigals', 'wandered', 'folly', 'far', 'Thee', 'Thy', 'grace', 'o’er', 'sin', 'abounding', 'Rescued', 'misery', 'Thou', 'Thy', 'prodigals', 'hast', 'pardoned', 'Kissed', 'Father', '’s', 'love', 'Spread', 'festive', 'board', 'called', 'E’er', 'dwell', 'Thee', 'Clothed', 'garments', 'salvation', 'Thy', 'table', 'place', 'rejoice', 'Thou', 'rejoicest', 'riches', 'Thy', 'grace', 'meet', 'hear', 'Thee', 'saying', 'merry', 'glad', 'found', 'lost', 'children', 'live', 'dead', 'Abba', 'Father', 'adore', 'Thee', 'rejoice', 'Heav’n', 'learn', 'wonders', 'Thy', 'wisdom', 'grace', 'love', 'Soon', 'Thy', 'throne', 'assembled', 'Thy', 'children', 'shall', 'proclaim', 'Glory', 'everlasting', 'glory', 'God', 'Lamb']\n"
     ]
    }
   ],
   "source": [
    "slyrics = nlp(lyrics)\n",
    "sclyrics = nlp(clean_lyrics)\n",
    "\n",
    "swords = [token.text for token in slyrics if token.is_stop != True and token.is_punct != True]\n",
    "scwords = [token.text for token in sclyrics if token.is_stop != True and token.is_punct != True]\n",
    "# words = [token.text for token in lyrics_1 if token.is_stop != True and token.is_punc != True and token.pos_ == 'NOUN']\n",
    "print(swords)\n",
    "print(\"------------------\")\n",
    "print(scwords)\n",
    "\n",
    "# for num,sentence in enumerate(lyrics_1.sents):\n",
    "#     print(num,\" \",sentence)\n"
   ]
  },
  {
   "cell_type": "code",
   "execution_count": null,
   "metadata": {
    "collapsed": true
   },
   "outputs": [],
   "source": [
    "## Clean the Reviews."
   ]
  },
  {
   "cell_type": "code",
   "execution_count": null,
   "metadata": {
    "collapsed": true
   },
   "outputs": [],
   "source": [
    "## Perform LSTM \n",
    "# https://nicschrading.com/project/Intro-to-NLP-with-spaCy/\n",
    "# http://blog.sharepointexperience.com/2016/01/nlp-and-sharepoint-part-1/\n",
    "# https://github.com/JonathanReeve/advanced-text-analysis-workshop-2017/blob/master/advanced-text-analysis.ipynb\n",
    "# http://nbviewer.jupyter.org/github/skipgram/modern-nlp-in-python/blob/master/executable/Modern_NLP_in_Python.ipynb"
   ]
  }
 ],
 "metadata": {
  "anaconda-cloud": {},
  "kernelspec": {
   "display_name": "Python [Root]",
   "language": "python",
   "name": "Python [Root]"
  },
  "language_info": {
   "codemirror_mode": {
    "name": "ipython",
    "version": 3
   },
   "file_extension": ".py",
   "mimetype": "text/x-python",
   "name": "python",
   "nbconvert_exporter": "python",
   "pygments_lexer": "ipython3",
   "version": "3.5.2"
  }
 },
 "nbformat": 4,
 "nbformat_minor": 1
}
