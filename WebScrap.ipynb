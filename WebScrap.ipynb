{
 "cells": [
  {
   "cell_type": "code",
   "execution_count": 1,
   "metadata": {
    "collapsed": true
   },
   "outputs": [],
   "source": [
    "import requests\n",
    "from requests.auth import HTTPProxyAuth\n",
    "from urllib.request import urlopen\n",
    "from bs4 import BeautifulSoup\n",
    "import time\n",
    "from random import randint\n",
    "import pandas as pd\n",
    "import re\n",
    "import socks\n",
    "import socket\n",
    "import sqlite3\n",
    "from stem import Signal\n",
    "from stem.control import Controller \n",
    "import numpy as np"
   ]
  },
  {
   "cell_type": "code",
   "execution_count": 12,
   "metadata": {
    "collapsed": true
   },
   "outputs": [],
   "source": [
    "## Initizlization\n",
    "\n",
    "#Create SQLite\n",
    "conn = sqlite3.connect('lyrics.db')\n",
    "df = pd.read_sql_query(\"select * from lyrics_url;\",conn)"
   ]
  },
  {
   "cell_type": "code",
   "execution_count": 23,
   "metadata": {
    "collapsed": true
   },
   "outputs": [],
   "source": [
    "db_name = \"lyrics_abc\""
   ]
  },
  {
   "cell_type": "code",
   "execution_count": null,
   "metadata": {
    "collapsed": true
   },
   "outputs": [],
   "source": [
    "## Steps for Git\n",
    "Git add <file> \n",
    "Git commit -m \"comments\" \n",
    "Git push origin master"
   ]
  },
  {
   "cell_type": "markdown",
   "metadata": {},
   "source": [
    "## Scrap Cyber Hymnal"
   ]
  },
  {
   "cell_type": "code",
   "execution_count": 26,
   "metadata": {
    "collapsed": true
   },
   "outputs": [],
   "source": [
    "def set_new_ip():\n",
    "    \"\"\"Change IP using TOR\"\"\"\n",
    "    with Controller.from_port(port=9051) as controller:\n",
    "        controller.authenticate()\n",
    "        controller.signal(Signal.NEWNYM)\n"
   ]
  },
  {
   "cell_type": "code",
   "execution_count": 27,
   "metadata": {
    "collapsed": true
   },
   "outputs": [],
   "source": [
    "#start tor :  tor & \n",
    "#netstat -tupln \n",
    "# http://sacharya.com/crawling-anonymously-with-tor-in-python/\n",
    "# socks.setdefaultproxy(proxy_type=socks.PROXY_TYPE_SOCKS5, addr=\"127.0.0.1\", port=9050)\n",
    "# socket.socket = socks.socksocket\n",
    "session = requests.session()\n",
    "session.proxies = {'https':'socks5://127.0.0.1:9050','http':'socks5://127.0.0.1:9050'}\n"
   ]
  },
  {
   "cell_type": "code",
   "execution_count": 14,
   "metadata": {},
   "outputs": [
    {
     "name": "stdout",
     "output_type": "stream",
     "text": [
      "5.135.158.101\n",
      "\n",
      "94.23.173.249\n",
      "\n"
     ]
    }
   ],
   "source": [
    "set_new_ip()\n",
    "print(session.get(\"http://icanhazip.com\").text)\n",
    "set_new_ip()\n",
    "print(session.get(\"http://icanhazip.com\").text)"
   ]
  },
  {
   "cell_type": "code",
   "execution_count": 17,
   "metadata": {},
   "outputs": [
    {
     "data": {
      "text/plain": [
       "86"
      ]
     },
     "execution_count": 17,
     "metadata": {},
     "output_type": "execute_result"
    }
   ],
   "source": [
    "columns = ['url','title','status']\n",
    "df = pd.DataFrame(columns=columns)\n",
    "\n",
    "url = 'http://cyberhymnal.org/ttl/ttl-'\n",
    "for i in range(ord('y'), ord('z')+1):\n",
    "    #    print(url+chr(i)+'.htm')\n",
    "    try:\n",
    "        hurl = url+chr(i)+'.htm'\n",
    "        pause = randint(3,8)\n",
    "        time.sleep(pause)\n",
    "        response = session.get(hurl, headers=headers)\n",
    "        data = response.text\n",
    "        soup = BeautifulSoup(data,\"lxml\")\n",
    "        div =  soup.find('div',attrs={\"class\":\"single-entry\"})\n",
    "        links = div.findAll(\"a\")\n",
    "        #Loop through the link in each page\n",
    "        for i in links:\n",
    "            url_link =  i.get(\"href\").replace(\"..\",\"http://cyberhymnal.org\")\n",
    "            song_name = i.get_text()\n",
    "            status = 0\n",
    "            row = [url_link,song_name,status]\n",
    "            # print(row)\n",
    "            df.loc[len(df)] = row  \n",
    "    except Exception as e:\n",
    "        print(hurl)\n",
    "        print(e)\n",
    "\n",
    "len(df)\n",
    "# df.reset_index(inplace=True)\n",
    "# df['key'] = df['index']\n",
    "# del df['index']\n",
    "\n",
    "# df.to_sql('lyrics_url',conn,if_exists='replace')\n",
    "# df.to_sql('lyrics_url',conn,if_exists='append')\n"
   ]
  },
  {
   "cell_type": "code",
   "execution_count": 24,
   "metadata": {},
   "outputs": [
    {
     "data": {
      "text/html": [
       "<div>\n",
       "<table border=\"1\" class=\"dataframe\">\n",
       "  <thead>\n",
       "    <tr style=\"text-align: right;\">\n",
       "      <th></th>\n",
       "      <th>status</th>\n",
       "    </tr>\n",
       "    <tr>\n",
       "      <th>first_alphabet</th>\n",
       "      <th></th>\n",
       "    </tr>\n",
       "  </thead>\n",
       "  <tbody>\n",
       "    <tr>\n",
       "      <th>A</th>\n",
       "      <td>325</td>\n",
       "    </tr>\n",
       "    <tr>\n",
       "      <th>B</th>\n",
       "      <td>311</td>\n",
       "    </tr>\n",
       "    <tr>\n",
       "      <th>C</th>\n",
       "      <td>367</td>\n",
       "    </tr>\n",
       "    <tr>\n",
       "      <th>D</th>\n",
       "      <td>133</td>\n",
       "    </tr>\n",
       "    <tr>\n",
       "      <th>E</th>\n",
       "      <td>88</td>\n",
       "    </tr>\n",
       "    <tr>\n",
       "      <th>F</th>\n",
       "      <td>236</td>\n",
       "    </tr>\n",
       "    <tr>\n",
       "      <th>G</th>\n",
       "      <td>334</td>\n",
       "    </tr>\n",
       "    <tr>\n",
       "      <th>H</th>\n",
       "      <td>584</td>\n",
       "    </tr>\n",
       "    <tr>\n",
       "      <th>I</th>\n",
       "      <td>620</td>\n",
       "    </tr>\n",
       "    <tr>\n",
       "      <th>J</th>\n",
       "      <td>294</td>\n",
       "    </tr>\n",
       "    <tr>\n",
       "      <th>K</th>\n",
       "      <td>39</td>\n",
       "    </tr>\n",
       "    <tr>\n",
       "      <th>L</th>\n",
       "      <td>572</td>\n",
       "    </tr>\n",
       "    <tr>\n",
       "      <th>M</th>\n",
       "      <td>314</td>\n",
       "    </tr>\n",
       "    <tr>\n",
       "      <th>N</th>\n",
       "      <td>182</td>\n",
       "    </tr>\n",
       "    <tr>\n",
       "      <th>O</th>\n",
       "      <td>941</td>\n",
       "    </tr>\n",
       "    <tr>\n",
       "      <th>P</th>\n",
       "      <td>154</td>\n",
       "    </tr>\n",
       "    <tr>\n",
       "      <th>Q</th>\n",
       "      <td>2</td>\n",
       "    </tr>\n",
       "    <tr>\n",
       "      <th>R</th>\n",
       "      <td>117</td>\n",
       "    </tr>\n",
       "    <tr>\n",
       "      <th>S</th>\n",
       "      <td>592</td>\n",
       "    </tr>\n",
       "    <tr>\n",
       "      <th>T</th>\n",
       "      <td>557</td>\n",
       "    </tr>\n",
       "    <tr>\n",
       "      <th>U</th>\n",
       "      <td>31</td>\n",
       "    </tr>\n",
       "    <tr>\n",
       "      <th>V</th>\n",
       "      <td>35</td>\n",
       "    </tr>\n",
       "    <tr>\n",
       "      <th>W</th>\n",
       "      <td>746</td>\n",
       "    </tr>\n",
       "    <tr>\n",
       "      <th>Y</th>\n",
       "      <td>79</td>\n",
       "    </tr>\n",
       "    <tr>\n",
       "      <th>Z</th>\n",
       "      <td>7</td>\n",
       "    </tr>\n",
       "    <tr>\n",
       "      <th>a</th>\n",
       "      <td>1</td>\n",
       "    </tr>\n",
       "    <tr>\n",
       "      <th>’</th>\n",
       "      <td>40</td>\n",
       "    </tr>\n",
       "    <tr>\n",
       "      <th>“</th>\n",
       "      <td>5</td>\n",
       "    </tr>\n",
       "  </tbody>\n",
       "</table>\n",
       "</div>"
      ],
      "text/plain": [
       "                status\n",
       "first_alphabet        \n",
       "A                  325\n",
       "B                  311\n",
       "C                  367\n",
       "D                  133\n",
       "E                   88\n",
       "F                  236\n",
       "G                  334\n",
       "H                  584\n",
       "I                  620\n",
       "J                  294\n",
       "K                   39\n",
       "L                  572\n",
       "M                  314\n",
       "N                  182\n",
       "O                  941\n",
       "P                  154\n",
       "Q                    2\n",
       "R                  117\n",
       "S                  592\n",
       "T                  557\n",
       "U                   31\n",
       "V                   35\n",
       "W                  746\n",
       "Y                   79\n",
       "Z                    7\n",
       "a                    1\n",
       "’                   40\n",
       "“                    5"
      ]
     },
     "execution_count": 24,
     "metadata": {},
     "output_type": "execute_result"
    }
   ],
   "source": [
    "df['first_alphabet'] = df['title'].str[0]\n",
    "pd.pivot_table(df,index=['first_alphabet'],values=['status'],aggfunc='count')"
   ]
  },
  {
   "cell_type": "code",
   "execution_count": 13,
   "metadata": {},
   "outputs": [
    {
     "data": {
      "text/html": [
       "<div>\n",
       "<table border=\"1\" class=\"dataframe\">\n",
       "  <thead>\n",
       "    <tr style=\"text-align: right;\">\n",
       "      <th></th>\n",
       "      <th>index</th>\n",
       "      <th>url</th>\n",
       "      <th>title</th>\n",
       "      <th>status</th>\n",
       "      <th>first_alphabet</th>\n",
       "    </tr>\n",
       "  </thead>\n",
       "  <tbody>\n",
       "    <tr>\n",
       "      <th>780</th>\n",
       "      <td>780</td>\n",
       "      <td>http://cyberhymnal.org/htm/c/o/m/come.htm</td>\n",
       "      <td>“COME”</td>\n",
       "      <td>0.0</td>\n",
       "      <td>“</td>\n",
       "    </tr>\n",
       "    <tr>\n",
       "      <th>1359</th>\n",
       "      <td>1359</td>\n",
       "      <td>http://cyberhymnal.org/htm/f/m/c/fmcstndr.htm</td>\n",
       "      <td>“FOLLOW ME!” A CALL SO TENDER</td>\n",
       "      <td>0.0</td>\n",
       "      <td>“</td>\n",
       "    </tr>\n",
       "    <tr>\n",
       "      <th>1372</th>\n",
       "      <td>1372</td>\n",
       "      <td>http://cyberhymnal.org/htm/g/l/o/glorygof.htm</td>\n",
       "      <td>“For God So Loved!” Oh, Wondrous Theme!</td>\n",
       "      <td>0.0</td>\n",
       "      <td>“</td>\n",
       "    </tr>\n",
       "    <tr>\n",
       "      <th>2826</th>\n",
       "      <td>2826</td>\n",
       "      <td>http://cyberhymnal.org/htm/a/c/c/accepted.htm</td>\n",
       "      <td>“In the Beloved” Accepted Am I</td>\n",
       "      <td>0.0</td>\n",
       "      <td>“</td>\n",
       "    </tr>\n",
       "    <tr>\n",
       "      <th>7457</th>\n",
       "      <td>7457</td>\n",
       "      <td>http://cyberhymnal.org/htm/w/h/whosoevm.htm</td>\n",
       "      <td>“Whosoever” Meaneth Me</td>\n",
       "      <td>0.0</td>\n",
       "      <td>“</td>\n",
       "    </tr>\n",
       "  </tbody>\n",
       "</table>\n",
       "</div>"
      ],
      "text/plain": [
       "      index                                            url  \\\n",
       "780     780      http://cyberhymnal.org/htm/c/o/m/come.htm   \n",
       "1359   1359  http://cyberhymnal.org/htm/f/m/c/fmcstndr.htm   \n",
       "1372   1372  http://cyberhymnal.org/htm/g/l/o/glorygof.htm   \n",
       "2826   2826  http://cyberhymnal.org/htm/a/c/c/accepted.htm   \n",
       "7457   7457    http://cyberhymnal.org/htm/w/h/whosoevm.htm   \n",
       "\n",
       "                                        title  status first_alphabet  \n",
       "780                                    “COME”     0.0              “  \n",
       "1359            “FOLLOW ME!” A CALL SO TENDER     0.0              “  \n",
       "1372  “For God So Loved!” Oh, Wondrous Theme!     0.0              “  \n",
       "2826           “In the Beloved” Accepted Am I     0.0              “  \n",
       "7457                   “Whosoever” Meaneth Me     0.0              “  "
      ]
     },
     "execution_count": 13,
     "metadata": {},
     "output_type": "execute_result"
    }
   ],
   "source": [
    "df[df['first_alphabet']=='“']"
   ]
  },
  {
   "cell_type": "code",
   "execution_count": 76,
   "metadata": {},
   "outputs": [
    {
     "ename": "ValueError",
     "evalue": "The truth value of a DataFrame is ambiguous. Use a.empty, a.bool(), a.item(), a.any() or a.all().",
     "output_type": "error",
     "traceback": [
      "\u001b[0;31m---------------------------------------------------------------------------\u001b[0m",
      "\u001b[0;31mValueError\u001b[0m                                Traceback (most recent call last)",
      "\u001b[0;32m<ipython-input-76-723c481b089f>\u001b[0m in \u001b[0;36m<module>\u001b[0;34m()\u001b[0m\n\u001b[1;32m     12\u001b[0m \u001b[0mcount\u001b[0m \u001b[0;34m=\u001b[0m \u001b[0;36m8000\u001b[0m\u001b[0;34m\u001b[0m\u001b[0m\n\u001b[1;32m     13\u001b[0m \u001b[0;34m\u001b[0m\u001b[0m\n\u001b[0;32m---> 14\u001b[0;31m \u001b[0;32mwhile\u001b[0m \u001b[0mcount\u001b[0m \u001b[0;34m>\u001b[0m \u001b[0;36m7600\u001b[0m \u001b[0;34m:\u001b[0m\u001b[0;34m\u001b[0m\u001b[0m\n\u001b[0m\u001b[1;32m     15\u001b[0m \u001b[0;34m\u001b[0m\u001b[0m\n\u001b[1;32m     16\u001b[0m     \u001b[0mcount\u001b[0m \u001b[0;34m=\u001b[0m \u001b[0mpd\u001b[0m\u001b[0;34m.\u001b[0m\u001b[0mread_sql_query\u001b[0m\u001b[0;34m(\u001b[0m\u001b[0;34m\"select count(*) as cnt from lyrics_abc where status = 0;\"\u001b[0m\u001b[0;34m,\u001b[0m\u001b[0mconn\u001b[0m\u001b[0;34m)\u001b[0m\u001b[0;34m\u001b[0m\u001b[0m\n",
      "\u001b[0;32m/home/chenjennhaur/anaconda3/lib/python3.5/site-packages/pandas/core/generic.py\u001b[0m in \u001b[0;36m__nonzero__\u001b[0;34m(self)\u001b[0m\n\u001b[1;32m    890\u001b[0m         raise ValueError(\"The truth value of a {0} is ambiguous. \"\n\u001b[1;32m    891\u001b[0m                          \u001b[0;34m\"Use a.empty, a.bool(), a.item(), a.any() or a.all().\"\u001b[0m\u001b[0;34m\u001b[0m\u001b[0m\n\u001b[0;32m--> 892\u001b[0;31m                          .format(self.__class__.__name__))\n\u001b[0m\u001b[1;32m    893\u001b[0m \u001b[0;34m\u001b[0m\u001b[0m\n\u001b[1;32m    894\u001b[0m     \u001b[0m__bool__\u001b[0m \u001b[0;34m=\u001b[0m \u001b[0m__nonzero__\u001b[0m\u001b[0;34m\u001b[0m\u001b[0m\n",
      "\u001b[0;31mValueError\u001b[0m: The truth value of a DataFrame is ambiguous. Use a.empty, a.bool(), a.item(), a.any() or a.all()."
     ]
    }
   ],
   "source": [
    "# auth = HTTPProxyAuth(\"username\", \"password\")\n",
    "user_agent_list = ['Mozilla/5.0 (Windows NT 6.1) AppleWebKit/537.36 (KHTML, like Gecko) Chrome/41.0.2228.0 Safari/537.36',\n",
    "                   'Mozilla/5.0 (Macintosh; Intel Mac OS X 10_10_1) AppleWebKit/537.36 (KHTML, like Gecko) Chrome/41.0.2227.1 Safari/537.36',\n",
    "                   'Mozilla/5.0 (Windows NT 6.2; Win64; x64) AppleWebKit/537.36 (KHTML, like Gecko) Chrome/32.0.1667.0 Safari/537.36',\n",
    "                   'Mozilla/5.0 (Windows NT 6.1; WOW64) AppleWebKit/537.36 (KHTML, like Gecko) Chrome/31.0.1623.0 Safari/537.36',\n",
    "                   'Mozilla/5.0 (compatible; MSIE 10.0; Windows NT 7.0; InfoPath.3; .NET CLR 3.1.40767; Trident/6.0; en-IN)',\n",
    "                   'Mozilla/5.0 (compatible; MSIE 9.0; Windows NT 6.1; Win64; x64; Trident/5.0'\n",
    "                  ]\n",
    "headers = {'User-Agent': 'Mozilla/5.0 (Macintosh; Intel Mac OS X 10_10_1) AppleWebKit/537.36 (KHTML, like Gecko) Chrome/39.0.2171.95 Safari/537.36'}\n",
    "\n",
    "iterations = 0\n",
    "count = 8000 \n",
    "\n",
    "while count > 7600 : \n",
    "\n",
    "    count_query = pd.read_sql_query(\"select count(*) as cnt from lyrics_abc where status = 0;\",conn)\n",
    "    count = count['cnt'][0]\n",
    "\n",
    "    # Randomize \n",
    "    set_new_ip()\n",
    "    rand_user_agent = randint(0,len(user_agent_list)-1)\n",
    "    headers['User-Agent'] = user_agent_list[rand_user_agent]\n",
    "    print(iteration)\n",
    "    iteration = iteration + 1\n",
    "    # Scrap\n",
    "    scrap = pd.read_sql_query(\"select key,url from lyrics_abc where status = 0 limit 10;\",conn)\n",
    "    for key,row in scrap.iterrows():\n",
    "\n",
    "        pause = randint(3,8)\n",
    "        time.sleep(pause)\n",
    "\n",
    "        key = row['key']\n",
    "        url = row['url']\n",
    "        response = session.get(url, headers=headers)\n",
    "        data = response.text\n",
    "        soup = BeautifulSoup(data,\"lxml\")\n",
    "\n",
    "        title = soup.title.get_text()\n",
    "        meta = str(soup.find('meta',attrs={'name':'description'}))\n",
    "        fullhtml = str(soup)\n",
    "        song_lyrics =  str(soup.find('div',attrs={\"class\":\"lyrics\"}))\n",
    "\n",
    "        update_stmt = conn.cursor()\n",
    "        update_stmt.execute(\"\"\"UPDATE lyrics_abc SET song_name = ? ,meta = ?,lyrics = ?,fullhtml = ? , status = ? WHERE key = ? \"\"\",\n",
    "          (title,meta,song_lyrics,fullhtml,1,key))\n",
    "        conn.commit\n",
    "\n",
    "\n"
   ]
  },
  {
   "cell_type": "code",
   "execution_count": 75,
   "metadata": {},
   "outputs": [
    {
     "data": {
      "text/plain": [
       "7695"
      ]
     },
     "execution_count": 75,
     "metadata": {},
     "output_type": "execute_result"
    }
   ],
   "source": []
  },
  {
   "cell_type": "code",
   "execution_count": 67,
   "metadata": {},
   "outputs": [
    {
     "data": {
      "text/html": [
       "<div>\n",
       "<table border=\"1\" class=\"dataframe\">\n",
       "  <thead>\n",
       "    <tr style=\"text-align: right;\">\n",
       "      <th></th>\n",
       "      <th>index</th>\n",
       "      <th>url</th>\n",
       "      <th>title</th>\n",
       "      <th>status</th>\n",
       "      <th>song_name</th>\n",
       "      <th>meta</th>\n",
       "      <th>lyrics</th>\n",
       "      <th>fullhtml</th>\n",
       "      <th>key</th>\n",
       "    </tr>\n",
       "  </thead>\n",
       "  <tbody>\n",
       "    <tr>\n",
       "      <th>0</th>\n",
       "      <td>0</td>\n",
       "      <td>http://cyberhymnal.org/htm/a/b/abbafath.htm</td>\n",
       "      <td>ABBA, FATHER! WE APPROACH THEE</td>\n",
       "      <td>1.0</td>\n",
       "      <td>Abba, Father! We Approach Thee</td>\n",
       "      <td>&lt;meta content=\"Words: James Deck, 1841. Music:...</td>\n",
       "      <td>&lt;div class=\"lyrics\"&gt;\\n&lt;p&gt;“Abba, Father!” We ap...</td>\n",
       "      <td>&lt;?xml version=\"1.0\" encoding=\"ISO-8859-2\" ?&gt;&lt;!...</td>\n",
       "      <td>0</td>\n",
       "    </tr>\n",
       "    <tr>\n",
       "      <th>1</th>\n",
       "      <td>1</td>\n",
       "      <td>http://cyberhymnal.org/htm/a/b/abidinme.htm</td>\n",
       "      <td>ABIDE IN ME, O LORD</td>\n",
       "      <td>1.0</td>\n",
       "      <td>Abide in Me, O Lord</td>\n",
       "      <td>&lt;meta content=\"Words: Harriet Stowe, 1855. Mus...</td>\n",
       "      <td>&lt;div class=\"lyrics\"&gt;\\n&lt;p&gt;Abide in me, O Lord, ...</td>\n",
       "      <td>&lt;?xml version=\"1.0\" encoding=\"ISO-8859-2\" ?&gt;&lt;!...</td>\n",
       "      <td>1</td>\n",
       "    </tr>\n",
       "    <tr>\n",
       "      <th>2</th>\n",
       "      <td>2</td>\n",
       "      <td>http://cyberhymnal.org/htm/a/i/abinthee.htm</td>\n",
       "      <td>ABIDE IN THEE</td>\n",
       "      <td>1.0</td>\n",
       "      <td>Abide in Thee</td>\n",
       "      <td>&lt;meta content=\"Words: Joseph Smith, 1869. Musi...</td>\n",
       "      <td>&lt;div class=\"lyrics\"&gt;\\n&lt;p&gt;Abide in Thee, in tha...</td>\n",
       "      <td>&lt;?xml version=\"1.0\" encoding=\"ISO-8859-2\" ?&gt;&lt;!...</td>\n",
       "      <td>2</td>\n",
       "    </tr>\n",
       "    <tr>\n",
       "      <th>3</th>\n",
       "      <td>3</td>\n",
       "      <td>http://cyberhymnal.org/htm/a/b/abidenot.htm</td>\n",
       "      <td>ABIDE NOT IN THE REALM OF DREAMS</td>\n",
       "      <td>1.0</td>\n",
       "      <td>Abide Not in the Realm of Dreams</td>\n",
       "      <td>&lt;meta content=\"Words: William Burleigh, 1871. ...</td>\n",
       "      <td>&lt;div class=\"lyrics\"&gt;\\n&lt;p&gt;Abide not in the real...</td>\n",
       "      <td>&lt;?xml version=\"1.0\" encoding=\"ISO-8859-2\" ?&gt;&lt;!...</td>\n",
       "      <td>3</td>\n",
       "    </tr>\n",
       "    <tr>\n",
       "      <th>4</th>\n",
       "      <td>4</td>\n",
       "      <td>http://cyberhymnal.org/htm/a/o/aodjesus.htm</td>\n",
       "      <td>ABIDE, O DEAREST JESUS</td>\n",
       "      <td>1.0</td>\n",
       "      <td>Abide, O Dearest Jesus</td>\n",
       "      <td>&lt;meta content=\"Words: Joshua Stegmann, 1628. M...</td>\n",
       "      <td>&lt;div class=\"lyrics\"&gt;\\n&lt;p&gt;Abide, O dearest Jesu...</td>\n",
       "      <td>&lt;?xml version=\"1.0\" encoding=\"ISO-8859-2\" ?&gt;&lt;!...</td>\n",
       "      <td>4</td>\n",
       "    </tr>\n",
       "    <tr>\n",
       "      <th>5</th>\n",
       "      <td>5</td>\n",
       "      <td>http://cyberhymnal.org/htm/a/b/abidewme.htm</td>\n",
       "      <td>ABIDE WITH ME</td>\n",
       "      <td>1.0</td>\n",
       "      <td>Abide with Me</td>\n",
       "      <td>&lt;meta content=\"Words: Henry Lyte, 1847. Music:...</td>\n",
       "      <td>None</td>\n",
       "      <td>&lt;?xml version=\"1.0\" encoding=\"ISO-8859-2\" ?&gt;&lt;!...</td>\n",
       "      <td>5</td>\n",
       "    </tr>\n",
       "    <tr>\n",
       "      <th>6</th>\n",
       "      <td>6</td>\n",
       "      <td>http://cyberhymnal.org/htm/a/b/abidewmt.htm</td>\n",
       "      <td>ABIDE WITH ME, ’TIS EVENTIDE</td>\n",
       "      <td>1.0</td>\n",
       "      <td>Abide with Me, ’Tis Eventide</td>\n",
       "      <td>&lt;meta content=\"Words: Lowrie Hofford, 1884. Mu...</td>\n",
       "      <td>&lt;div class=\"lyrics\"&gt;\\n&lt;p&gt;Abide with me, ’tis e...</td>\n",
       "      <td>&lt;?xml version=\"1.0\" encoding=\"ISO-8859-2\" ?&gt;&lt;!...</td>\n",
       "      <td>6</td>\n",
       "    </tr>\n",
       "    <tr>\n",
       "      <th>7</th>\n",
       "      <td>7</td>\n",
       "      <td>http://cyberhymnal.org/htm/a/w/awuosavr.htm</td>\n",
       "      <td>ABIDE WITH US, OUR SAVIOR</td>\n",
       "      <td>1.0</td>\n",
       "      <td>Abide with Us, Our Savior</td>\n",
       "      <td>&lt;meta content=\"Words: Joshua Stegmann, 1632. M...</td>\n",
       "      <td>&lt;div class=\"lyrics\"&gt;\\n&lt;p&gt;Abide with us, our Sa...</td>\n",
       "      <td>&lt;?xml version=\"1.0\" encoding=\"ISO-8859-2\" ?&gt;&lt;!...</td>\n",
       "      <td>7</td>\n",
       "    </tr>\n",
       "    <tr>\n",
       "      <th>8</th>\n",
       "      <td>8</td>\n",
       "      <td>http://cyberhymnal.org/htm/a/b/abidewus.htm</td>\n",
       "      <td>ABIDE WITH US, THE DAY IS WANING</td>\n",
       "      <td>1.0</td>\n",
       "      <td>Abide with Us, the Day Is Waning</td>\n",
       "      <td>&lt;meta content=\"Words: Caspar Boye, 1834. Music...</td>\n",
       "      <td>&lt;div class=\"lyrics\"&gt;\\n&lt;p&gt;“Abide with us, the d...</td>\n",
       "      <td>&lt;?xml version=\"1.0\" encoding=\"ISO-8859-2\" ?&gt;&lt;!...</td>\n",
       "      <td>8</td>\n",
       "    </tr>\n",
       "    <tr>\n",
       "      <th>9</th>\n",
       "      <td>9</td>\n",
       "      <td>http://cyberhymnal.org/htm/a/b/able2del.htm</td>\n",
       "      <td>ABLE TO DELIVER</td>\n",
       "      <td>1.0</td>\n",
       "      <td>Able to Deliver</td>\n",
       "      <td>&lt;meta content=\"Words: Fanny Crosby, 1899. Musi...</td>\n",
       "      <td>&lt;div class=\"lyrics\"&gt;\\n&lt;p&gt;O troubled heart, be ...</td>\n",
       "      <td>&lt;?xml version=\"1.0\" encoding=\"ISO-8859-2\" ?&gt;&lt;!...</td>\n",
       "      <td>9</td>\n",
       "    </tr>\n",
       "    <tr>\n",
       "      <th>10</th>\n",
       "      <td>10</td>\n",
       "      <td>http://cyberhymnal.org/htm/a/b/l/ablesave.htm</td>\n",
       "      <td>ABLE TO SAVE</td>\n",
       "      <td>1.0</td>\n",
       "      <td>Able to Save</td>\n",
       "      <td>&lt;meta content=\"Words: R. Venting, 1907. Music:...</td>\n",
       "      <td>&lt;div class=\"lyrics\"&gt;\\n&lt;p&gt;Look to Jesus on the ...</td>\n",
       "      <td>&lt;?xml version=\"1.0\" encoding=\"ISO-8859-2\" ?&gt;&lt;!...</td>\n",
       "      <td>10</td>\n",
       "    </tr>\n",
       "  </tbody>\n",
       "</table>\n",
       "</div>"
      ],
      "text/plain": [
       "    index                                            url  \\\n",
       "0       0    http://cyberhymnal.org/htm/a/b/abbafath.htm   \n",
       "1       1    http://cyberhymnal.org/htm/a/b/abidinme.htm   \n",
       "2       2    http://cyberhymnal.org/htm/a/i/abinthee.htm   \n",
       "3       3    http://cyberhymnal.org/htm/a/b/abidenot.htm   \n",
       "4       4    http://cyberhymnal.org/htm/a/o/aodjesus.htm   \n",
       "5       5    http://cyberhymnal.org/htm/a/b/abidewme.htm   \n",
       "6       6    http://cyberhymnal.org/htm/a/b/abidewmt.htm   \n",
       "7       7    http://cyberhymnal.org/htm/a/w/awuosavr.htm   \n",
       "8       8    http://cyberhymnal.org/htm/a/b/abidewus.htm   \n",
       "9       9    http://cyberhymnal.org/htm/a/b/able2del.htm   \n",
       "10     10  http://cyberhymnal.org/htm/a/b/l/ablesave.htm   \n",
       "\n",
       "                               title  status  \\\n",
       "0     ABBA, FATHER! WE APPROACH THEE     1.0   \n",
       "1                ABIDE IN ME, O LORD     1.0   \n",
       "2                      ABIDE IN THEE     1.0   \n",
       "3   ABIDE NOT IN THE REALM OF DREAMS     1.0   \n",
       "4             ABIDE, O DEAREST JESUS     1.0   \n",
       "5                      ABIDE WITH ME     1.0   \n",
       "6       ABIDE WITH ME, ’TIS EVENTIDE     1.0   \n",
       "7          ABIDE WITH US, OUR SAVIOR     1.0   \n",
       "8   ABIDE WITH US, THE DAY IS WANING     1.0   \n",
       "9                    ABLE TO DELIVER     1.0   \n",
       "10                      ABLE TO SAVE     1.0   \n",
       "\n",
       "                           song_name  \\\n",
       "0     Abba, Father! We Approach Thee   \n",
       "1                Abide in Me, O Lord   \n",
       "2                      Abide in Thee   \n",
       "3   Abide Not in the Realm of Dreams   \n",
       "4             Abide, O Dearest Jesus   \n",
       "5                      Abide with Me   \n",
       "6       Abide with Me, ’Tis Eventide   \n",
       "7          Abide with Us, Our Savior   \n",
       "8   Abide with Us, the Day Is Waning   \n",
       "9                    Able to Deliver   \n",
       "10                      Able to Save   \n",
       "\n",
       "                                                 meta  \\\n",
       "0   <meta content=\"Words: James Deck, 1841. Music:...   \n",
       "1   <meta content=\"Words: Harriet Stowe, 1855. Mus...   \n",
       "2   <meta content=\"Words: Joseph Smith, 1869. Musi...   \n",
       "3   <meta content=\"Words: William Burleigh, 1871. ...   \n",
       "4   <meta content=\"Words: Joshua Stegmann, 1628. M...   \n",
       "5   <meta content=\"Words: Henry Lyte, 1847. Music:...   \n",
       "6   <meta content=\"Words: Lowrie Hofford, 1884. Mu...   \n",
       "7   <meta content=\"Words: Joshua Stegmann, 1632. M...   \n",
       "8   <meta content=\"Words: Caspar Boye, 1834. Music...   \n",
       "9   <meta content=\"Words: Fanny Crosby, 1899. Musi...   \n",
       "10  <meta content=\"Words: R. Venting, 1907. Music:...   \n",
       "\n",
       "                                               lyrics  \\\n",
       "0   <div class=\"lyrics\">\\n<p>“Abba, Father!” We ap...   \n",
       "1   <div class=\"lyrics\">\\n<p>Abide in me, O Lord, ...   \n",
       "2   <div class=\"lyrics\">\\n<p>Abide in Thee, in tha...   \n",
       "3   <div class=\"lyrics\">\\n<p>Abide not in the real...   \n",
       "4   <div class=\"lyrics\">\\n<p>Abide, O dearest Jesu...   \n",
       "5                                                None   \n",
       "6   <div class=\"lyrics\">\\n<p>Abide with me, ’tis e...   \n",
       "7   <div class=\"lyrics\">\\n<p>Abide with us, our Sa...   \n",
       "8   <div class=\"lyrics\">\\n<p>“Abide with us, the d...   \n",
       "9   <div class=\"lyrics\">\\n<p>O troubled heart, be ...   \n",
       "10  <div class=\"lyrics\">\\n<p>Look to Jesus on the ...   \n",
       "\n",
       "                                             fullhtml  key  \n",
       "0   <?xml version=\"1.0\" encoding=\"ISO-8859-2\" ?><!...    0  \n",
       "1   <?xml version=\"1.0\" encoding=\"ISO-8859-2\" ?><!...    1  \n",
       "2   <?xml version=\"1.0\" encoding=\"ISO-8859-2\" ?><!...    2  \n",
       "3   <?xml version=\"1.0\" encoding=\"ISO-8859-2\" ?><!...    3  \n",
       "4   <?xml version=\"1.0\" encoding=\"ISO-8859-2\" ?><!...    4  \n",
       "5   <?xml version=\"1.0\" encoding=\"ISO-8859-2\" ?><!...    5  \n",
       "6   <?xml version=\"1.0\" encoding=\"ISO-8859-2\" ?><!...    6  \n",
       "7   <?xml version=\"1.0\" encoding=\"ISO-8859-2\" ?><!...    7  \n",
       "8   <?xml version=\"1.0\" encoding=\"ISO-8859-2\" ?><!...    8  \n",
       "9   <?xml version=\"1.0\" encoding=\"ISO-8859-2\" ?><!...    9  \n",
       "10  <?xml version=\"1.0\" encoding=\"ISO-8859-2\" ?><!...   10  "
      ]
     },
     "execution_count": 67,
     "metadata": {},
     "output_type": "execute_result"
    }
   ],
   "source": [
    "results = pd.read_sql_query(\"select * from lyrics_abc where status = 1;\",conn)\n",
    "results"
   ]
  },
  {
   "cell_type": "code",
   "execution_count": 34,
   "metadata": {},
   "outputs": [
    {
     "name": "stdout",
     "output_type": "stream",
     "text": [
      "Words: bio(\"Harriet B. Stowe\",\"s/t/o/stowe_hb\"), in the Ply­mouth Col­lect­ion, 1855.\n",
      "Music: Cuba, in Temp­li Car­mi­na, by bio(\"George Kingsley\",\"k/i/n/kingsley_g\") (North­amp­ton, Mass­a­chu­setts: 1853)lmn(\"c/u/Cuba\").\n",
      "<div class=\"lyrics\">\n",
      "<p>Abide in me, O Lord, and I in Thee,<br/>\r\n",
      "From this good hour, oh, leave me nevermore;<br/>\r\n",
      "Then shall the discord cease, the wound be healed,<br/>\r\n",
      "The lifelong bleeding of the soul be o’er.</p>\n",
      "<p>Abide in me; o’ershadow by Thy love<br/>\r\n",
      "Each half formed purpose and dark thought of sin;<br/>\r\n",
      "Quench ere it rise each selfish, low desire,<br/>\r\n",
      "And keep my soul as Thine, calm and divine.</p>\n",
      "<p>As some rare perfume in a vase of clay,<br/>\r\n",
      "Pervades it with a fragrance not its own,<br/>\r\n",
      "So, when Thou dwellest in a mortal soul,<br/>\r\n",
      "All Heaven’s own sweetness seems around it thrown.</p>\n",
      "<p>Abide in me; there have been moments blest<br/>\r\n",
      "When I have heard Thy voice and felt Thy power;<br/>\r\n",
      "Then evil lost its grasp; and passion, hushed,<br/>\r\n",
      "Owned the divine enchantment of the hour.</p>\n",
      "<p>These were but seasons beautiful and rare;<br/>\r\n",
      "Abide in me, and they shall ever be;<br/>\r\n",
      "Fulfill at once Thy precept and my prayer,<br/>\r\n",
      "Come, and abide in me, and I in Thee.</p>\n",
      "</div>\n"
     ]
    }
   ],
   "source": [
    "song_composers = soup.body.table.find(\"td\").findAll(\"p\")\n",
    "\n",
    "sc = []\n",
    "for s in song_composers:\n",
    "    sc.append(s.get_text().replace(\"&shy;\",\"\"))\n",
    "    print(s.get_text().replace(\"&shy;\",\"\"))\n",
    "# song_music =  soup.find('span',attrs={\"class\":\"music\"})\n",
    "# print(song_music)\n",
    "\n",
    "song_lyrics =  soup.find('div',attrs={\"class\":\"lyrics\"})\n",
    "print(song_lyrics)"
   ]
  },
  {
   "cell_type": "code",
   "execution_count": 37,
   "metadata": {},
   "outputs": [
    {
     "name": "stdout",
     "output_type": "stream",
     "text": [
      "Words: bio(\"Harriet B. Stowe\",\"s/t/o/stowe_hb\"), in the Ply­mouth Col­lect­ion, 1855.\n",
      "Composer is  Harriet B. Stowe  Year  1855\n",
      "Words: Harriet B. Stowe, in the Ply­mouth Col­lect­ion, 1855.\n",
      "Music: Cuba, in Temp­li Car­mi­na, by bio(\"George Kingsley\",\"k/i/n/kingsley_g\") (North­amp­ton, Mass­a­chu­setts: 1853)lmn(\"c/u/Cuba\").\n",
      "Music: Cuba, in Temp­li Car­mi­na, by George Kingsley (North­amp­ton, Mass­a­chu­setts: 1853)\n"
     ]
    }
   ],
   "source": [
    "print(sc[0])\n",
    "composer = re.findall(\"bio\\(\\\"(.*)\\\",\",sc[0])\n",
    "year = re.findall(\"\\d{4}\",sc[0])\n",
    "print(\"Composer is \",composer[0],\" Year \",year[0])\n",
    "final = re.sub(\"bio\\(\\\"(.*)\\\",.*?\\)\",r\"\\1\",sc[0])\n",
    "print(final)\n",
    "\n",
    "print(sc[1])\n",
    "music = re.sub(\"bio\\(\\\"(.*)\\\",.*?\\)\",r\"\\1\",sc[1])\n",
    "music = re.sub(\"lmn\\(\\\".*\",\"\",music)\n",
    "print(music)"
   ]
  },
  {
   "cell_type": "markdown",
   "metadata": {},
   "source": [
    "## Reference Scraping "
   ]
  },
  {
   "cell_type": "code",
   "execution_count": null,
   "metadata": {
    "collapsed": true
   },
   "outputs": [],
   "source": [
    "url = 'http://www.whoishostingthis.com/tools/user-agent/'\n",
    "response = requests.get(url, headers=headers,auth=auth)\n",
    "data = response.text\n",
    "soup = BeautifulSoup(data,\"lxml\")\n",
    "useragent = soup.find(attrs={\"class\":\"info-box user-agent\"})\n",
    "ip = soup.find(attrs={\"class\":\"info-box ip\"})\n",
    "print(useragent.text)\n",
    "print(headers[\"User-Agent\"])\n",
    "print(ip.span.text)"
   ]
  },
  {
   "cell_type": "code",
   "execution_count": null,
   "metadata": {
    "collapsed": true
   },
   "outputs": [],
   "source": [
    "### Example Code for using Sessions\n",
    "# s = requests.Session()\n",
    "# s.get(url,headers=headers)\n",
    "# print(s.cookies)\n",
    "# r = s.post(url, data=payload,auth=auth,headers=headers,cookies=cookie)"
   ]
  },
  {
   "cell_type": "code",
   "execution_count": null,
   "metadata": {
    "collapsed": true
   },
   "outputs": [],
   "source": [
    "cookie = {'session_name':'session','cookie_1': 'cookie_session_1'}\n",
    "headers = {'User-Agent':'Mozilla/5.0 (Windows NT 6.1) AppleWebKit/537.36 (KHTML, like Gecko) Chrome/55.0.2883.87 Safari/537.36',\n",
    "           'header_2':'header_value_2'\n",
    "          }\n",
    "\n",
    "\n",
    "payload = {'input1':'value1',\n",
    "           'input2': 'value2',\n",
    "          }\n",
    "\n",
    "r = requests.post(url, data=payload,auth=auth,headers=headers,cookies=cookie)\n",
    "\n",
    "data = r.text\n",
    "soup = BeautifulSoup(data,\"lxml\")\n",
    "#Debug\n",
    "r.request.headers\n",
    "r.headers\n",
    "\n",
    "file = open(\"output.html\",\"w\") \n",
    "file.write(soup.prettify()) \n",
    "file.close() "
   ]
  },
  {
   "cell_type": "code",
   "execution_count": null,
   "metadata": {
    "collapsed": true
   },
   "outputs": [],
   "source": [
    "#Create SQLite\n",
    "conn = sqlite3.connect('lyrics.db')\n",
    "eumo = pd.read_csv('EU_MO.csv')\n",
    "eumo.to_sql('test',conn,if_exists='replace')\n",
    "\n",
    "cur = conn.cursor()\n",
    "cur.execute('delete from test')\n",
    "conn.commit\n",
    "\n",
    "pd.read_sql_query(\"select * from test;\",conn)"
   ]
  },
  {
   "cell_type": "markdown",
   "metadata": {},
   "source": [
    "## Scrap AZ Lyrics"
   ]
  },
  {
   "cell_type": "code",
   "execution_count": null,
   "metadata": {
    "collapsed": true
   },
   "outputs": [],
   "source": []
  },
  {
   "cell_type": "code",
   "execution_count": null,
   "metadata": {
    "collapsed": true
   },
   "outputs": [],
   "source": []
  },
  {
   "cell_type": "markdown",
   "metadata": {},
   "source": [
    "## Scrap Company Details"
   ]
  },
  {
   "cell_type": "code",
   "execution_count": 141,
   "metadata": {
    "collapsed": true
   },
   "outputs": [],
   "source": [
    "from urllib.request import urlopen\n",
    "from bs4 import BeautifulSoup\n",
    "import time\n",
    "from random import randint\n",
    "#Websites\n",
    "#https://www.sgpbusiness.com\n",
    "\n",
    "#Read up <site>/robots.txt"
   ]
  },
  {
   "cell_type": "code",
   "execution_count": 142,
   "metadata": {
    "collapsed": true
   },
   "outputs": [],
   "source": [
    "search_url = \"http://www.yelu.sg/category/postal-services/\"\n",
    "base_url = \"http://www.yelu.sg\"\n",
    "\n",
    "html = urlopen(search_url)\n",
    "bsObj = BeautifulSoup(html.read(),\"lxml\")"
   ]
  },
  {
   "cell_type": "code",
   "execution_count": 143,
   "metadata": {},
   "outputs": [
    {
     "name": "stdout",
     "output_type": "stream",
     "text": [
      "9\n"
     ]
    }
   ],
   "source": [
    "page = bsObj.findAll(\"a\",{\"class\":\"page_no\"})\n",
    "\n",
    "max = 0 \n",
    "for i in page:\n",
    "    page_no = int(i.get_text())\n",
    "    if (page_no > max):\n",
    "        max = page_no\n",
    "print(max)\n",
    "# page.findAll(\"div\")"
   ]
  },
  {
   "cell_type": "code",
   "execution_count": null,
   "metadata": {},
   "outputs": [
    {
     "name": "stdout",
     "output_type": "stream",
     "text": [
      "http://www.yelu.sg/category/postal-services/1\n",
      "http://www.yelu.sg/category/postal-services/2\n",
      "http://www.yelu.sg/category/postal-services/3\n",
      "http://www.yelu.sg/category/postal-services/4\n",
      "http://www.yelu.sg/category/postal-services/5"
     ]
    }
   ],
   "source": [
    "f1 = open('scrap.txt','w')\n",
    "for x in range(1,max+1):\n",
    "    pg_search = search_url+str(x)\n",
    "    print(search_url+str(x))\n",
    "    #Loop through the pages\n",
    "    pg_url = urlopen(pg_search)\n",
    "    pgObj = BeautifulSoup(pg_url.read(),\"lxml\")\n",
    "    time.sleep(5)\n",
    "    pages = pgObj.findAll(\"h4\")\n",
    "    #Loop through the link in each page\n",
    "    for i in pages:\n",
    "        ref = i.a.get(\"href\")\n",
    "        ran_sleep = randint(10,12)\n",
    "        time.sleep(ran_sleep)\n",
    "        coy = urlopen(base_url+ref)\n",
    "        coyObj = BeautifulSoup(coy.read(),\"lxml\")\n",
    "        for s in scrapitem:\n",
    "          try:\n",
    "            if len(s.find_all('div')) == 0 :\n",
    "              header = s.find('span').get_text()\n",
    "              description = s.get_text()[len(header):]\n",
    "            else: \n",
    "              header = s.find_all('div')[0].get_text()  \n",
    "              if s.find('span') == None :\n",
    "                description = s.find_all('div')[1].get_text()\n",
    "              else : \n",
    "                description = s.find('span').get_text()    \n",
    "            #f1.write(base_url+ref)\n",
    "            f1.write(header,\":\",description,\"\\n\")\n",
    "            if header == 'E-mail' :\n",
    "                break\n",
    "          except AttributeError as e:\n",
    "            continue\n",
    "          except Exception as ea:\n",
    "            continue\n",
    "f1.close()"
   ]
  },
  {
   "cell_type": "code",
   "execution_count": 88,
   "metadata": {},
   "outputs": [
    {
     "name": "stdout",
     "output_type": "stream",
     "text": [
      "No Span\n"
     ]
    }
   ],
   "source": [
    "# t.find_all('div')[0].get_text()\n",
    "# t.find_all('div')[1].get_text()\n",
    "x = t.find('span')\n",
    "if (x == None):\n",
    "  print(\"No Span\")\n",
    "else :\n",
    "  print(\"Yes\")\n",
    "# t.div.find_next_siblings()"
   ]
  },
  {
   "cell_type": "code",
   "execution_count": 98,
   "metadata": {
    "collapsed": true
   },
   "outputs": [],
   "source": [
    "pg_url = urlopen(\"http://www.yelu.sg/category/postal-services/9\")"
   ]
  },
  {
   "cell_type": "code",
   "execution_count": 101,
   "metadata": {},
   "outputs": [
    {
     "data": {
      "text/plain": [
       "[]"
      ]
     },
     "execution_count": 101,
     "metadata": {},
     "output_type": "execute_result"
    }
   ],
   "source": [
    "pgObj = BeautifulSoup(pg_url.read(),\"lxml\")\n",
    "pages = pgObj.findAll(\"h4\")\n",
    "pages"
   ]
  },
  {
   "cell_type": "code",
   "execution_count": 6,
   "metadata": {
    "collapsed": true
   },
   "outputs": [],
   "source": [
    "def getTitle(url):\n",
    "    try:\n",
    "        html = urlopen(url)\n",
    "    except HTTPError as e:\n",
    "        return None\n",
    "    try:\n",
    "        bsObj = BeautifulSoup(html.read())\n",
    "        title = bsObj.body.h1\n",
    "    except AttributeError as e:\n",
    "        return None\n",
    "    return title"
   ]
  },
  {
   "cell_type": "code",
   "execution_count": 63,
   "metadata": {
    "collapsed": true
   },
   "outputs": [],
   "source": [
    "time.sleep(3)"
   ]
  },
  {
   "cell_type": "code",
   "execution_count": null,
   "metadata": {
    "collapsed": true
   },
   "outputs": [],
   "source": []
  }
 ],
 "metadata": {
  "anaconda-cloud": {},
  "kernelspec": {
   "display_name": "Python [Root]",
   "language": "python",
   "name": "Python [Root]"
  },
  "language_info": {
   "codemirror_mode": {
    "name": "ipython",
    "version": 3
   },
   "file_extension": ".py",
   "mimetype": "text/x-python",
   "name": "python",
   "nbconvert_exporter": "python",
   "pygments_lexer": "ipython3",
   "version": "3.5.2"
  }
 },
 "nbformat": 4,
 "nbformat_minor": 1
}
