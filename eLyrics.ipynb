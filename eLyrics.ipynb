{
 "cells": [
  {
   "cell_type": "code",
   "execution_count": 1,
   "metadata": {},
   "outputs": [],
   "source": [
    "import requests\n",
    "from requests.auth import HTTPProxyAuth\n",
    "from urllib.request import urlopen\n",
    "from bs4 import BeautifulSoup\n",
    "import time\n",
    "from random import randint\n",
    "import pandas as pd\n",
    "import re\n",
    "import socks\n",
    "import socket\n",
    "import sqlite3\n",
    "from stem import Signal\n",
    "from stem.control import Controller \n",
    "import numpy as np\n",
    "import math"
   ]
  },
  {
   "cell_type": "code",
   "execution_count": 2,
   "metadata": {
    "collapsed": true
   },
   "outputs": [],
   "source": [
    "## Initizlization\n",
    "\n",
    "#Create SQLite\n",
    "conn = sqlite3.connect('elyrics.db')\n",
    "# df = pd.read_sql_query(\"select * from lyrics_url;\",conn)"
   ]
  },
  {
   "cell_type": "code",
   "execution_count": 3,
   "metadata": {
    "collapsed": true
   },
   "outputs": [],
   "source": [
    "session = requests.session()\n",
    "session.proxies = {'https':'socks5://127.0.0.1:9050','http':'socks5://127.0.0.1:9050'}"
   ]
  },
  {
   "cell_type": "code",
   "execution_count": 52,
   "metadata": {},
   "outputs": [
    {
     "name": "stdout",
     "output_type": "stream",
     "text": [
      "http://www.elyrics.net/list/a.htm   2.60474   75\n",
      "http://www.elyrics.net/list/b.htm   15.187713   57\n"
     ]
    }
   ],
   "source": [
    "user_agent_list = ['Mozilla/5.0 (Windows NT 6.1) AppleWebKit/537.36 (KHTML, like Gecko) Chrome/41.0.2228.0 Safari/537.36',\n",
    "                   'Mozilla/5.0 (Macintosh; Intel Mac OS X 10_10_1) AppleWebKit/537.36 (KHTML, like Gecko) Chrome/41.0.2227.1 Safari/537.36',\n",
    "                   'Mozilla/5.0 (Windows NT 6.2; Win64; x64) AppleWebKit/537.36 (KHTML, like Gecko) Chrome/32.0.1667.0 Safari/537.36',\n",
    "                   'Mozilla/5.0 (Windows NT 6.1; WOW64) AppleWebKit/537.36 (KHTML, like Gecko) Chrome/31.0.1623.0 Safari/537.36',\n",
    "                   'Mozilla/5.0 (compatible; MSIE 10.0; Windows NT 7.0; InfoPath.3; .NET CLR 3.1.40767; Trident/6.0; en-IN)',\n",
    "                   'Mozilla/5.0 (compatible; MSIE 9.0; Windows NT 6.1; Win64; x64; Trident/5.0',\n",
    "                   'Mozilla/5.0 (Windows NT 6.1; WOW64) AppleWebKit/537.36 (KHTML, like Gecko) Chrome/51.0.2704.103 Safari/537.36',\n",
    "                   'Mozilla/5.0 (X11; Ubuntu; Linux armv7l; rv:17.0) Gecko/20100101 Firefox/17.0'\n",
    "                  ]\n",
    "headers = {'User-Agent': 'Mozilla/5.0 (Macintosh; Intel Mac OS X 10_10_1) AppleWebKit/537.36 (KHTML, like Gecko) Chrome/39.0.2171.95 Safari/537.36'}\n",
    "\n",
    "base_url = \"http://www.elyrics.net\"\n",
    "for start_letter in range(ord('a'), ord('b')+1):\n",
    "    url_1 = base_url + '/list/'+chr(start_letter)+'.htm'\n",
    "    pause = randint(3,5)\n",
    "    time.sleep(pause)\n",
    "    response = session.get(url_1, headers=headers)\n",
    "    data = response.text\n",
    "    soup = BeautifulSoup(data,\"lxml\")\n",
    "    p = soup.find('div',attrs={'class':'sub_navi'})\n",
    "    no_records = re.findall(\".*of (\\d*) artists.*\",p.get_text())\n",
    "    page = math.ceil(int(no_records[0]) / 75)\n",
    "    print(url_1 ,\" \", response.elapsed.total_seconds(),\" \",page)\n"
   ]
  },
  {
   "cell_type": "code",
   "execution_count": 45,
   "metadata": {},
   "outputs": [
    {
     "name": "stdout",
     "output_type": "stream",
     "text": [
      "http://www.elyrics.net/list/b.htm\n",
      "http://www.elyrics.net/list/b_2.htm\n",
      "http://www.elyrics.net/list/b_3.htm\n",
      "http://www.elyrics.net/list/b_4.htm\n",
      "http://www.elyrics.net/list/b_5.htm\n",
      "http://www.elyrics.net/list/b_6.htm\n",
      "http://www.elyrics.net/list/b_7.htm\n",
      "http://www.elyrics.net/list/b_8.htm\n",
      "http://www.elyrics.net/list/b_9.htm\n",
      "http://www.elyrics.net/list/b_10.htm\n",
      "http://www.elyrics.net/list/b_11.htm\n",
      "http://www.elyrics.net/list/b_12.htm\n",
      "http://www.elyrics.net/list/b_13.htm\n",
      "http://www.elyrics.net/list/b_14.htm\n",
      "http://www.elyrics.net/list/b_15.htm\n",
      "http://www.elyrics.net/list/b_16.htm\n",
      "http://www.elyrics.net/list/b_17.htm\n",
      "http://www.elyrics.net/list/b_18.htm\n",
      "http://www.elyrics.net/list/b_19.htm\n",
      "http://www.elyrics.net/list/b_20.htm\n",
      "http://www.elyrics.net/list/b_21.htm\n",
      "http://www.elyrics.net/list/b_22.htm\n",
      "http://www.elyrics.net/list/b_23.htm\n",
      "http://www.elyrics.net/list/b_24.htm\n",
      "http://www.elyrics.net/list/b_25.htm\n",
      "http://www.elyrics.net/list/b_26.htm\n",
      "http://www.elyrics.net/list/b_27.htm\n",
      "http://www.elyrics.net/list/b_28.htm\n",
      "http://www.elyrics.net/list/b_29.htm\n",
      "http://www.elyrics.net/list/b_30.htm\n",
      "http://www.elyrics.net/list/b_31.htm\n",
      "http://www.elyrics.net/list/b_32.htm\n",
      "http://www.elyrics.net/list/b_33.htm\n",
      "http://www.elyrics.net/list/b_34.htm\n",
      "http://www.elyrics.net/list/b_35.htm\n"
     ]
    }
   ],
   "source": [
    "# Loop through subpages\n",
    "\n",
    "t0 = time.time()\n",
    "\n",
    "\n",
    "for i in range(1,page+1):\n",
    "    if i == 1 : \n",
    "        url = \"http://www.elyrics.net/list/b.htm\"\n",
    "    else : url = \"http://www.elyrics.net/list/b_\"+str(i)+\".htm\"\n",
    "#     r_artist = session.get(url, headers=headers)\n",
    "#     data = response.text\n",
    "#     soup = BeautifulSoup(data,\"lxml\")\n",
    "    print(url)\n",
    "\n",
    "t1 = time.time()\n",
    "print(\"Time Taken:\",t1-t0)\n",
    "\n",
    "# artist_list = soup.find('div',attrs={'class':'song2'})\n",
    "# artist_a = artist_list.findAll(\"a\")\n",
    "# for a in artist_a : \n",
    "#     a_name = a.get_text()\n",
    "#     a_url = \"http://www.elyrics.net\"+a.get(\"href\")\n",
    "#     #print(a_name,\" \",a_url)\n",
    "\n"
   ]
  },
  {
   "cell_type": "code",
   "execution_count": 40,
   "metadata": {},
   "outputs": [
    {
     "data": {
      "text/plain": [
       "35"
      ]
     },
     "execution_count": 40,
     "metadata": {},
     "output_type": "execute_result"
    }
   ],
   "source": []
  },
  {
   "cell_type": "code",
   "execution_count": null,
   "metadata": {
    "collapsed": true
   },
   "outputs": [],
   "source": [
    "columns = ['url','artist','status']\n",
    "df = pd.DataFrame(columns=columns)\n",
    "\n",
    "url = 'http://www.elyrics.net/list/'\n",
    "\n",
    "for i in range(ord('a'), ord('b')+1):\n",
    "    #    print(url+chr(i)+'.htm')\n",
    "    try:\n",
    "        hurl = url+chr(i)+'.htm'\n",
    "        pause = randint(3,5)\n",
    "        time.sleep(pause)\n",
    "        response = session.get(hurl, headers=headers)\n",
    "        data = response.text\n",
    "        soup = BeautifulSoup(data,\"lxml\")\n",
    "        div =  soup.find('div',attrs={\"class\":\"single-entry\"})\n",
    "        links = div.findAll(\"a\")\n",
    "        #Loop through the link in each page\n",
    "        for i in links:\n",
    "            url_link =  i.get(\"href\").replace(\"..\",\"http://cyberhymnal.org\")\n",
    "            song_name = i.get_text()\n",
    "            status = 0\n",
    "            row = [url_link,song_name,status]\n",
    "            # print(row)\n",
    "            df.loc[len(df)] = row  \n",
    "    except Exception as ex:\n",
    "        print(hurl,\" \",type(ex).__name__,\" \",ex.args)\n",
    "        "
   ]
  }
 ],
 "metadata": {
  "anaconda-cloud": {},
  "kernelspec": {
   "display_name": "Python [Root]",
   "language": "python",
   "name": "Python [Root]"
  },
  "language_info": {
   "codemirror_mode": {
    "name": "ipython",
    "version": 3
   },
   "file_extension": ".py",
   "mimetype": "text/x-python",
   "name": "python",
   "nbconvert_exporter": "python",
   "pygments_lexer": "ipython3",
   "version": "3.5.2"
  }
 },
 "nbformat": 4,
 "nbformat_minor": 1
}
