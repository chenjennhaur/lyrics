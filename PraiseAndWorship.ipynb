{
 "cells": [
  {
   "cell_type": "code",
   "execution_count": 4,
   "metadata": {
    "collapsed": true
   },
   "outputs": [],
   "source": [
    "import requests\n",
    "from requests.auth import HTTPProxyAuth\n",
    "from urllib.request import urlopen\n",
    "from bs4 import BeautifulSoup\n",
    "import time\n",
    "from random import randint\n",
    "import pandas as pd\n",
    "import re\n",
    "import socks\n",
    "import socket\n",
    "import sqlite3\n",
    "from stem import Signal\n",
    "from stem.control import Controller \n",
    "import numpy as np\n",
    "import math"
   ]
  },
  {
   "cell_type": "code",
   "execution_count": null,
   "metadata": {
    "collapsed": true
   },
   "outputs": [],
   "source": [
    "## Steps for Git\n",
    "Git add <file> \n",
    "Git commit -m \"comments\" \n",
    "Git push origin master"
   ]
  },
  {
   "cell_type": "code",
   "execution_count": 63,
   "metadata": {
    "collapsed": true
   },
   "outputs": [],
   "source": [
    "## Initizlization\n",
    "\n",
    "#Create SQLite\n",
    "conn = sqlite3.connect('praiselyrics.db')\n",
    "# df = pd.read_sql_query(\"select * from lyrics_url;\",conn)"
   ]
  },
  {
   "cell_type": "code",
   "execution_count": 6,
   "metadata": {
    "collapsed": true
   },
   "outputs": [],
   "source": [
    "session = requests.session()\n",
    "session.proxies = {'https':'socks5://127.0.0.1:9050','http':'socks5://127.0.0.1:9050'}"
   ]
  },
  {
   "cell_type": "code",
   "execution_count": 55,
   "metadata": {},
   "outputs": [],
   "source": [
    "user_agent_list = ['Mozilla/5.0 (Windows NT 6.1) AppleWebKit/537.36 (KHTML, like Gecko) Chrome/41.0.2228.0 Safari/537.36',\n",
    "                   'Mozilla/5.0 (Macintosh; Intel Mac OS X 10_10_1) AppleWebKit/537.36 (KHTML, like Gecko) Chrome/41.0.2227.1 Safari/537.36',\n",
    "                   'Mozilla/5.0 (Windows NT 6.2; Win64; x64) AppleWebKit/537.36 (KHTML, like Gecko) Chrome/32.0.1667.0 Safari/537.36',\n",
    "                   'Mozilla/5.0 (Windows NT 6.1; WOW64) AppleWebKit/537.36 (KHTML, like Gecko) Chrome/31.0.1623.0 Safari/537.36',\n",
    "                   'Mozilla/5.0 (compatible; MSIE 10.0; Windows NT 7.0; InfoPath.3; .NET CLR 3.1.40767; Trident/6.0; en-IN)',\n",
    "                   'Mozilla/5.0 (compatible; MSIE 9.0; Windows NT 6.1; Win64; x64; Trident/5.0',\n",
    "                   'Mozilla/5.0 (Windows NT 6.1; WOW64) AppleWebKit/537.36 (KHTML, like Gecko) Chrome/51.0.2704.103 Safari/537.36',\n",
    "                   'Mozilla/5.0 (X11; Ubuntu; Linux armv7l; rv:17.0) Gecko/20100101 Firefox/17.0'\n",
    "                  ]\n",
    "headers = {'User-Agent': 'Mozilla/5.0 (Macintosh; Intel Mac OS X 10_10_1) AppleWebKit/537.36 (KHTML, like Gecko) Chrome/39.0.2171.95 Safari/537.36'}\n",
    "\n",
    "base_url = \"http://worship-songs-resources.worshiptogether.com/nav/category/songs/\"\n",
    "\n",
    "columns = ['url','title','status']\n",
    "dflyrics = pd.DataFrame(columns=columns)\n",
    "\n",
    "# Max = 158\n",
    "# 158 (includ) onwards\n",
    "for i in range(0,157):\n",
    "    try: \n",
    "        url = base_url+str(i*12)\n",
    "        # print(url)\n",
    "        pause = randint(3,5)\n",
    "        time.sleep(pause)\n",
    "        response = session.get(url, headers=headers)\n",
    "        data = response.text\n",
    "        song_url = BeautifulSoup(data,\"lxml\")\n",
    "        song_url_list = song_url.findAll('div',attrs={'class','post_result'})\n",
    "        for s in song_url_list:\n",
    "            a = s.find('h2').find('a')\n",
    "            url = a.get('href')\n",
    "            title = a.get_text()\n",
    "            status = 0 \n",
    "            row = [url,title,status]\n",
    "            dflyrics.loc[len(dflyrics)] = row  \n",
    "    except Exception as e:\n",
    "        print(url)\n",
    "        print(e)\n",
    "\n",
    "dflyrics.to_sql('lyrics_url',conn,if_exists='replace')"
   ]
  },
  {
   "cell_type": "code",
   "execution_count": 58,
   "metadata": {},
   "outputs": [],
   "source": [
    "\n",
    "dflyrics.reset_index(inplace=True)\n",
    "dflyrics['key'] = dflyrics['index']\n",
    "del dflyrics['index']\n",
    "#alter table lyrics_url add column fullhtml text;\n",
    "\n",
    "dflyrics.to_sql('lyrics_url',conn,if_exists='replace')"
   ]
  },
  {
   "cell_type": "code",
   "execution_count": 62,
   "metadata": {},
   "outputs": [
    {
     "name": "stdout",
     "output_type": "stream",
     "text": [
      "Interations : 0  Per Request: 0.9110592000000001  Total: 583.5309026241302\n",
      "Interations : 1  Per Request: 0.9240130199999999  Total: 571.5068211555481\n",
      "Interations : 2  Per Request: 0.9276187900000002  Total: 582.3232312202454\n"
     ]
    }
   ],
   "source": [
    "def set_new_ip():\n",
    "    \"\"\"Change IP using TOR\"\"\"\n",
    "    with Controller.from_port(port=9051) as controller:\n",
    "        controller.authenticate()\n",
    "        controller.signal(Signal.NEWNYM)\n",
    "\n",
    "cursor = conn.cursor()\n",
    "        \n",
    "batch = 1000\n",
    "mini_batch = 100 \n",
    "lower_limit = 3\n",
    "upper_limit = 5\n",
    "\n",
    "iterations = 0\n",
    "count_query = pd.read_sql_query(\"select count(*) as cnt from lyrics_url where status = 0;\",conn)\n",
    "count = int(count_query['cnt'][0])\n",
    "# initial_count = count - batch\n",
    "initial_count = 1700 \n",
    "\n",
    "while count > initial_count : \n",
    "\n",
    "    count_query = pd.read_sql_query(\"select count(*) as cnt from lyrics_url where status = 0;\",conn)\n",
    "    count = int(count_query['cnt'][0])\n",
    "\n",
    "    # Randomize \n",
    "    set_new_ip()\n",
    "    rand_user_agent = randint(0,len(user_agent_list)-1)\n",
    "    headers['User-Agent'] = user_agent_list[rand_user_agent]\n",
    "    elapsed_time = 0 \n",
    "    # Scrap\n",
    "    scrap = pd.read_sql_query(\"select key,url from lyrics_url where status = 0 limit \"+str(mini_batch)+\";\",conn)\n",
    "    t0 = time.time()\n",
    "    for key,row in scrap.iterrows():\n",
    "\n",
    "        pause = randint(lower_limit,upper_limit)\n",
    "        time.sleep(pause)\n",
    "\n",
    "        key = row['key']\n",
    "        url = row['url']\n",
    "        response = session.get(url, headers=headers)\n",
    "        elapsed_time += response.elapsed.total_seconds()\n",
    "        data = response.text\n",
    "\n",
    "        \n",
    "            \n",
    "        cursor.execute(\"\"\"UPDATE lyrics_url SET fullhtml = ?, status = ? WHERE key = ? \"\"\",\n",
    "              (data,1,key))\n",
    "        conn.commit()\n",
    "            \n",
    "    t1 = time.time()\n",
    "    print(\"Interations :\",iterations,\" Per Request:\" ,elapsed_time/mini_batch,\" Total:\",t1-t0)\n",
    "    # print(\"Initial_count \",initial_count,\" Current:\",count)\n",
    "    iterations = iterations + 1\n",
    "    \n",
    "\n",
    "cursor.close()"
   ]
  },
  {
   "cell_type": "code",
   "execution_count": 65,
   "metadata": {},
   "outputs": [
    {
     "data": {
      "text/html": [
       "<div>\n",
       "<table border=\"1\" class=\"dataframe\">\n",
       "  <thead>\n",
       "    <tr style=\"text-align: right;\">\n",
       "      <th></th>\n",
       "      <th>cnt</th>\n",
       "    </tr>\n",
       "  </thead>\n",
       "  <tbody>\n",
       "    <tr>\n",
       "      <th>0</th>\n",
       "      <td>1578</td>\n",
       "    </tr>\n",
       "  </tbody>\n",
       "</table>\n",
       "</div>"
      ],
      "text/plain": [
       "    cnt\n",
       "0  1578"
      ]
     },
     "execution_count": 65,
     "metadata": {},
     "output_type": "execute_result"
    }
   ],
   "source": [
    "count_query = pd.read_sql_query(\"select count(*) as cnt from lyrics_url where status = 0;\",conn)\n",
    "count_query"
   ]
  },
  {
   "cell_type": "code",
   "execution_count": null,
   "metadata": {
    "collapsed": true
   },
   "outputs": [],
   "source": [
    "# Maranatha Music / Integrity Music / Vineyard Music / Passion"
   ]
  },
  {
   "cell_type": "code",
   "execution_count": 8,
   "metadata": {},
   "outputs": [],
   "source": [
    "#Page Extract\n",
    "#http://www.worshiptogether.com/songs/holy-spirit/\n",
    "\n",
    "base_url = \"http://www.worshiptogether.com/songs/holy-spirit/\"\n",
    "response = session.get(base_url, headers=headers)\n",
    "data = response.text\n",
    "soup = BeautifulSoup(data,\"lxml\")\n",
    "# p = soup.find('div',attrs={'class':'sub_navi'})\n",
    "# no_records = re.findall(\".*of (\\d*) artists.*\",p.get_text())\n",
    "# page = math.ceil(int(no_records[0]) / 75)\n",
    "# print(url_1 ,\" \", response.elapsed.total_seconds(),\" \",page)\n",
    "\n"
   ]
  },
  {
   "cell_type": "code",
   "execution_count": 13,
   "metadata": {},
   "outputs": [
    {
     "data": {
      "text/plain": [
       "\"\\n\\n\\n\\nIntro\\n\\n\\n\\n\\nA /// //// D /// ////\\n\\n\\n\\n\\n\\nA /// //// D /// ////\\n\\n\\n\\n\\n\\n\\n\\nVerse 1\\n\\n\\n\\n\\nA\\n  There's nothing worth more, that will ever come \\n\\n\\nD\\nclose\\n\\n\\n\\n\\n\\nNo thing can compare, You're our living \\n\\n\\nA\\nhope\\n\\n\\n\\n\\n\\nYour Presence \\n\\n\\nD\\nLord\\n\\n\\n\\n\\n\\n\\nVerse 2\\n\\n\\n\\n\\nA\\n  I've tasted and seen, of the sweetest of \\n\\n\\nD\\nloves\\n\\n\\n\\n\\n\\nWhere my heart becomes free, and my shame is und\\n\\n\\nA\\none\\n\\n\\n\\n\\n\\nIn Your Presence \\n\\n\\nD\\nLord\\n\\n\\n\\n\\n\\n\\nChorus \\n\\n\\n\\n\\nA\\nHoly Spirit You are welcome here\\n\\n\\n\\n\\n\\nCome \\n\\n\\nD\\nflood this place and fill the \\n\\n\\nBm\\natmosphere\\n\\n\\n\\n\\n\\nYour \\n\\n\\nA\\nGlory God is what our hearts long for\\n\\n\\n\\n\\n\\nTo be \\n\\n\\nD\\novercome by Your \\n\\n\\nBm\\nPresence Lord\\n\\n\\n\\n\\n\\n\\nInterlude\\n\\n\\n\\n\\nA /// //// D /// Bm ///\\n\\n\\n\\n\\n\\n\\n\\nREPEAT VERSE 1\\n\\n\\n\\n\\n\\nREPEAT VERSE 2\\n\\n\\n\\n\\n\\nREPEAT CHORUS 2X\\n\\n\\n\\n\\n\\n\\nInterlude\\n\\n\\n\\n\\nA /// //// D /// Bm ///\\n\\n\\n\\n\\n\\nA /// //// D /// Bm ///\\n\\n\\n\\n\\n\\n\\n\\nBridge\\n\\n\\n\\n\\nA\\nLet us become more aware of Your Presence\\n\\n\\n\\n\\n\\nLet us experience the Glory of Your Goodness\\n\\n\\n\\n\\n\\nD\\n  Let us be\\n\\n\\nA/C#\\ncome more a\\n\\n\\nBm\\nware of Your \\n\\n\\nA/C#\\nPresence\\n\\n\\n\\n\\nD\\n  Let us exp\\n\\n\\nA/C#\\nerience the \\n\\n\\nBm\\nGlory of Your \\n\\n\\nA/C#\\nGoodness\\n\\n\\n\\n\\n\\n X3 \\n\\n\\n\\n\\nD\\nLord\\n\\n\\n\\n\\n\\n\\nREPEAT CHORUS DOWN\\n\\n\\n\""
      ]
     },
     "execution_count": 13,
     "metadata": {},
     "output_type": "execute_result"
    }
   ],
   "source": [
    "lyrics = soup.find('div',attrs={'class':'chord-pro-disp'})\n",
    "lyrics.get_text()"
   ]
  },
  {
   "cell_type": "code",
   "execution_count": 20,
   "metadata": {},
   "outputs": [
    {
     "name": "stdout",
     "output_type": "stream",
     "text": [
      "Intro\n",
      "\n",
      "\n",
      "Verse 1\n",
      "  There's nothing worth more, that will ever come \n",
      "close\n",
      "No thing can compare, You're our living \n",
      "hope\n",
      "Your Presence \n",
      "Lord\n",
      "Verse 2\n",
      "  I've tasted and seen, of the sweetest of \n",
      "loves\n",
      "Where my heart becomes free, and my shame is und\n",
      "one\n",
      "In Your Presence \n",
      "Lord\n",
      "Chorus \n",
      "Holy Spirit You are welcome here\n",
      "Come \n",
      "flood this place and fill the \n",
      "atmosphere\n",
      "Your \n",
      "Glory God is what our hearts long for\n",
      "To be \n",
      "overcome by Your \n",
      "Presence Lord\n",
      "Interlude\n",
      "\n",
      "REPEAT VERSE 1\n",
      "REPEAT VERSE 2\n",
      "REPEAT CHORUS 2X\n",
      "Interlude\n",
      "\n",
      "\n",
      "Bridge\n",
      "Let us become more aware of Your Presence\n",
      "Let us experience the Glory of Your Goodness\n",
      "  Let us be\n",
      "come more a\n",
      "ware of Your \n",
      "Presence\n",
      "  Let us exp\n",
      "erience the \n",
      "Glory of Your \n",
      "Goodness\n",
      " X3 \n",
      "Lord\n",
      "REPEAT CHORUS DOWN\n"
     ]
    }
   ],
   "source": [
    "getLyrics = soup.findAll('div',attrs={'class':'chord-pro-lyric'})\n",
    "for i in getLyrics:\n",
    "    print(i.text)\n",
    "    #print(i.get_text().replace('\\n',''))"
   ]
  },
  {
   "cell_type": "code",
   "execution_count": 26,
   "metadata": {},
   "outputs": [
    {
     "name": "stdout",
     "output_type": "stream",
     "text": [
      "\n",
      "\n",
      "\n",
      "Writer(s):               \n",
      "Katie Torwalt, Bryan Torwalt                            \n",
      "\n",
      "\n",
      "\n",
      "\n",
      "                                    Theme(s):\n",
      "                                \n",
      "Call to Worship                            \n",
      "\n",
      "\n",
      "\n",
      "Tempo:\n",
      "Slow\n",
      "\n",
      "\n",
      "\n",
      "\n",
      "Ministry(s):\n",
      "Jesus Culture                            \n",
      "\n",
      "\n",
      "\n",
      "BPM:\n",
      "                                72\n",
      "                            \n",
      "\n",
      "\n",
      "\n",
      "Original Key(s):\n",
      "A \n",
      "\n",
      "\n",
      "\n",
      "Key Range:\n",
      "                                G-C\n",
      "                            \n",
      "\n",
      "\n",
      "\n",
      "Recommended Key(s):\n",
      "A , D , D#/Eb , G \n",
      "\n",
      "\n",
      "\n",
      "CCLI #:\n",
      "                                6087919\n",
      "                            \n",
      "\n",
      "\n",
      "\n",
      "Scripture Reference(s):\n",
      "                                2 Corinthians 3:17; Psalm 96: 8-13\n",
      "                            \n",
      "\n",
      "\n"
     ]
    }
   ],
   "source": [
    "getTaxonomy = soup.findAll('div',attrs={'class':'song_taxonomy'})\n",
    "for tax in getTaxonomy:\n",
    "    print(tax.get_text())"
   ]
  },
  {
   "cell_type": "code",
   "execution_count": null,
   "metadata": {
    "collapsed": true
   },
   "outputs": [],
   "source": []
  }
 ],
 "metadata": {
  "anaconda-cloud": {},
  "kernelspec": {
   "display_name": "Python [Root]",
   "language": "python",
   "name": "Python [Root]"
  },
  "language_info": {
   "codemirror_mode": {
    "name": "ipython",
    "version": 3
   },
   "file_extension": ".py",
   "mimetype": "text/x-python",
   "name": "python",
   "nbconvert_exporter": "python",
   "pygments_lexer": "ipython3",
   "version": "3.5.2"
  }
 },
 "nbformat": 4,
 "nbformat_minor": 1
}
