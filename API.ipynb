{
 "cells": [
  {
   "cell_type": "code",
   "execution_count": 19,
   "metadata": {
    "collapsed": true
   },
   "outputs": [],
   "source": [
    "import requests\n",
    "from requests.auth import HTTPProxyAuth\n",
    "from urllib.request import urlopen\n",
    "from bs4 import BeautifulSoup\n",
    "import time\n",
    "from random import randint\n",
    "import pandas as pd\n",
    "import re\n",
    "import socks\n",
    "import socket\n",
    "import sqlite3\n",
    "from stem import Signal\n",
    "from stem.control import Controller \n",
    "import numpy as np\n",
    "import math\n",
    "import json\n",
    "import spacy\n",
    "import urllib.parse\n",
    "import math\n",
    "nlp = spacy.load('en')"
   ]
  },
  {
   "cell_type": "code",
   "execution_count": 101,
   "metadata": {
    "collapsed": true
   },
   "outputs": [],
   "source": [
    "#Create SQLite\n",
    "# conn = sqlite3.connect('songlyrics.db')\n",
    "# df = pd.read_sql_query(\"select * from songlyrics_url where status=1;\",conn)\n",
    "conn = sqlite3.connect('spotify.db')\n",
    "\n",
    "\n",
    "header = {\"Authorization\":\"Bearer \"+auth_token}  "
   ]
  },
  {
   "cell_type": "code",
   "execution_count": 4,
   "metadata": {
    "collapsed": true
   },
   "outputs": [],
   "source": [
    "soup = BeautifulSoup(df['fullhtml'][3],\"lxml\")\n",
    "df['fullhtml'][10]\n",
    "lyrics = soup.find('p',attrs={'id':'songLyricsDiv'})\n",
    "lyric = lyrics.get_text()"
   ]
  },
  {
   "cell_type": "code",
   "execution_count": 93,
   "metadata": {
    "collapsed": true
   },
   "outputs": [],
   "source": [
    "lyric_clean = re.sub(r'\\n[\\(]?Chorus[:]?[\\)]?[ ]?\\n',\"\",lyric)\n",
    "lyric_final = lyric_clean.replace(\"\\n\\n\",\"\\n\").replace(\"\\n\",\".\\n\").replace(\" .\",\".\")"
   ]
  },
  {
   "cell_type": "code",
   "execution_count": 94,
   "metadata": {
    "collapsed": true
   },
   "outputs": [],
   "source": [
    "doc = nlp(lyric_final)"
   ]
  },
  {
   "cell_type": "code",
   "execution_count": 91,
   "metadata": {},
   "outputs": [
    {
     "name": "stdout",
     "output_type": "stream",
     "text": [
      "Let now the weak say I have strength.\n",
      "\n",
      "-----------\n",
      "By the Spirit of pow'r.\n",
      "\n",
      "-----------\n",
      "That raised Christ from the dead.\n",
      "\n",
      "-----------\n",
      "Let now the poor stand and confess.\n",
      "That my portion in Him.\n",
      "\n",
      "-----------\n",
      "And I'm more then blessed.\n",
      "\n",
      "-----------\n",
      "Let now our hearts burn with a flame.\n",
      "\n",
      "-----------\n",
      "A fire consuming all for Your Son's holy name.\n",
      "\n",
      "-----------\n",
      "And with the heavens we declare.\n",
      "\n",
      "-----------\n",
      "You are our King.\n",
      "\n",
      "-----------\n",
      "We love You, Lord.\n",
      "\n",
      "-----------\n",
      "We Worship You.\n",
      "\n",
      "-----------\n",
      "You are our God.\n",
      "\n",
      "-----------\n",
      "You alone are good.\n",
      "\n",
      "-----------\n",
      "Let now Your church shine as your bride.\n",
      "\n",
      "-----------\n",
      "That You saw in Your heart.\n",
      "\n",
      "-----------\n",
      "As You offered up Your life.\n",
      "\n",
      "-----------\n",
      "Let now the lost be welcome home.\n",
      "\n",
      "-----------\n",
      "By the saved and redeemed.\n",
      "\n",
      "-----------\n",
      "Those adopted as Your own.\n",
      "\n",
      "-----------\n",
      "Let now our hearts burn with a flame.\n",
      "\n",
      "-----------\n",
      "A fire consuming all for Your Son's holy name.\n",
      "\n",
      "-----------\n",
      "And with the heavens we declare.\n",
      "\n",
      "-----------\n",
      "You are our King.\n",
      "\n",
      "-----------\n",
      "You asked Your Son to carry this.\n",
      "\n",
      "-----------\n",
      "The heavy cross.\n",
      "\n",
      "-----------\n",
      "Our weight of sin.\n",
      "\n",
      "-----------\n",
      "I love You, Lord.\n",
      "\n",
      "-----------\n",
      "I Wwrship You.\n",
      "\n",
      "-----------\n",
      "Hope which was lost, now stands renewed.\n",
      "\n",
      "-----------\n",
      "I give my life to honor this.\n",
      "\n",
      "-----------\n",
      "The love of Christ.\n",
      "\n",
      "-----------\n",
      "The Saviour King.\n",
      "\n",
      "-----------\n",
      "You asked Your Son to carry this.\n",
      "\n",
      "-----------\n",
      "The heavy cross.\n",
      "\n",
      "-----------\n",
      "Our weight of sin.\n",
      "\n",
      "-----------\n",
      "I love You, Lord.\n",
      "\n",
      "-----------\n",
      "I worship You.\n",
      "\n",
      "-----------\n",
      "Hope which was lost now stands renewed.\n",
      "\n",
      "-----------\n",
      "I give my life to honor this.\n",
      "\n",
      "-----------\n",
      "The love of Christ.\n",
      "\n",
      "-----------\n",
      "The Saviour King\n",
      "-----------\n"
     ]
    }
   ],
   "source": [
    "for s in doc.sents:\n",
    "    print(s)\n",
    "    print('-----------')"
   ]
  },
  {
   "cell_type": "code",
   "execution_count": 95,
   "metadata": {},
   "outputs": [
    {
     "data": {
      "text/plain": [
       "{'documentSentiment': {'magnitude': 17.1, 'score': 0.3},\n",
       " 'language': 'en',\n",
       " 'sentences': [{'sentiment': {'magnitude': 0.3, 'score': -0.3},\n",
       "   'text': {'beginOffset': 0,\n",
       "    'content': 'Let now the weak say I have strength.'}},\n",
       "  {'sentiment': {'magnitude': 0.3, 'score': 0.3},\n",
       "   'text': {'beginOffset': 38, 'content': \"By the Spirit of pow'r.\"}},\n",
       "  {'sentiment': {'magnitude': 0.1, 'score': 0.1},\n",
       "   'text': {'beginOffset': 62,\n",
       "    'content': 'That raised Christ from the dead.'}},\n",
       "  {'sentiment': {'magnitude': 0.7, 'score': -0.7},\n",
       "   'text': {'beginOffset': 96,\n",
       "    'content': 'Let now the poor stand and confess.'}},\n",
       "  {'sentiment': {'magnitude': 0, 'score': 0},\n",
       "   'text': {'beginOffset': 132, 'content': 'That my portion in Him.'}},\n",
       "  {'sentiment': {'magnitude': 0.8, 'score': 0.8},\n",
       "   'text': {'beginOffset': 156, 'content': \"And I'm more then blessed.\"}},\n",
       "  {'sentiment': {'magnitude': 0.2, 'score': 0.2},\n",
       "   'text': {'beginOffset': 183,\n",
       "    'content': 'Let now our hearts burn with a flame.'}},\n",
       "  {'sentiment': {'magnitude': 0.4, 'score': 0.4},\n",
       "   'text': {'beginOffset': 221,\n",
       "    'content': \"A fire consuming all for Your Son's holy name.\"}},\n",
       "  {'sentiment': {'magnitude': 0.1, 'score': 0.1},\n",
       "   'text': {'beginOffset': 268,\n",
       "    'content': 'And with the heavens we declare.'}},\n",
       "  {'sentiment': {'magnitude': 0.1, 'score': 0.1},\n",
       "   'text': {'beginOffset': 301, 'content': 'You are our King.'}},\n",
       "  {'sentiment': {'magnitude': 0.8, 'score': 0.8},\n",
       "   'text': {'beginOffset': 319, 'content': 'We love You, Lord.'}},\n",
       "  {'sentiment': {'magnitude': 0.8, 'score': 0.8},\n",
       "   'text': {'beginOffset': 338, 'content': 'We Worship You.'}},\n",
       "  {'sentiment': {'magnitude': 0, 'score': 0},\n",
       "   'text': {'beginOffset': 354, 'content': 'You are our God.'}},\n",
       "  {'sentiment': {'magnitude': 0.6, 'score': 0.6},\n",
       "   'text': {'beginOffset': 371, 'content': 'You alone are good.'}},\n",
       "  {'sentiment': {'magnitude': 0.6, 'score': 0.6},\n",
       "   'text': {'beginOffset': 391,\n",
       "    'content': 'Let now Your church shine as your bride.'}},\n",
       "  {'sentiment': {'magnitude': 0.6, 'score': 0.6},\n",
       "   'text': {'beginOffset': 432, 'content': 'That You saw in Your heart.'}},\n",
       "  {'sentiment': {'magnitude': 0.6, 'score': 0.6},\n",
       "   'text': {'beginOffset': 460, 'content': 'As You offered up Your life.'}},\n",
       "  {'sentiment': {'magnitude': 0.5, 'score': -0.5},\n",
       "   'text': {'beginOffset': 489,\n",
       "    'content': 'Let now the lost be welcome home.'}},\n",
       "  {'sentiment': {'magnitude': 0.4, 'score': 0.4},\n",
       "   'text': {'beginOffset': 523, 'content': 'By the saved and redeemed.'}},\n",
       "  {'sentiment': {'magnitude': 0, 'score': 0},\n",
       "   'text': {'beginOffset': 550, 'content': 'Those adopted as Your own.'}},\n",
       "  {'sentiment': {'magnitude': 0.2, 'score': 0.2},\n",
       "   'text': {'beginOffset': 577,\n",
       "    'content': 'Let now our hearts burn with a flame.'}},\n",
       "  {'sentiment': {'magnitude': 0.4, 'score': 0.4},\n",
       "   'text': {'beginOffset': 615,\n",
       "    'content': \"A fire consuming all for Your Son's holy name.\"}},\n",
       "  {'sentiment': {'magnitude': 0.1, 'score': 0.1},\n",
       "   'text': {'beginOffset': 662,\n",
       "    'content': 'And with the heavens we declare.'}},\n",
       "  {'sentiment': {'magnitude': 0.1, 'score': 0.1},\n",
       "   'text': {'beginOffset': 695, 'content': 'You are our King.'}},\n",
       "  {'sentiment': {'magnitude': 0, 'score': 0},\n",
       "   'text': {'beginOffset': 713,\n",
       "    'content': 'You asked Your Son to carry this.'}},\n",
       "  {'sentiment': {'magnitude': 0, 'score': 0},\n",
       "   'text': {'beginOffset': 747, 'content': 'The heavy cross.'}},\n",
       "  {'sentiment': {'magnitude': 0, 'score': 0},\n",
       "   'text': {'beginOffset': 764, 'content': 'Our weight of sin.'}},\n",
       "  {'sentiment': {'magnitude': 0.8, 'score': 0.8},\n",
       "   'text': {'beginOffset': 783, 'content': 'I love You, Lord.'}},\n",
       "  {'sentiment': {'magnitude': 0.1, 'score': 0.1},\n",
       "   'text': {'beginOffset': 801, 'content': 'I Wwrship You.'}},\n",
       "  {'sentiment': {'magnitude': 0.2, 'score': 0.2},\n",
       "   'text': {'beginOffset': 816,\n",
       "    'content': 'Hope which was lost, now stands renewed.'}},\n",
       "  {'sentiment': {'magnitude': 0.6, 'score': 0.6},\n",
       "   'text': {'beginOffset': 857, 'content': 'I give my life to honor this.'}},\n",
       "  {'sentiment': {'magnitude': 0.9, 'score': 0.9},\n",
       "   'text': {'beginOffset': 887, 'content': 'The love of Christ.'}},\n",
       "  {'sentiment': {'magnitude': 0.5, 'score': 0.5},\n",
       "   'text': {'beginOffset': 907, 'content': 'The Saviour King.'}},\n",
       "  {'sentiment': {'magnitude': 0, 'score': 0},\n",
       "   'text': {'beginOffset': 925,\n",
       "    'content': 'You asked Your Son to carry this.'}},\n",
       "  {'sentiment': {'magnitude': 0, 'score': 0},\n",
       "   'text': {'beginOffset': 959, 'content': 'The heavy cross.'}},\n",
       "  {'sentiment': {'magnitude': 0, 'score': 0},\n",
       "   'text': {'beginOffset': 976, 'content': 'Our weight of sin.'}},\n",
       "  {'sentiment': {'magnitude': 0.8, 'score': 0.8},\n",
       "   'text': {'beginOffset': 995, 'content': 'I love You, Lord.'}},\n",
       "  {'sentiment': {'magnitude': 0.6, 'score': 0.6},\n",
       "   'text': {'beginOffset': 1013, 'content': 'I worship You.'}},\n",
       "  {'sentiment': {'magnitude': 0, 'score': 0},\n",
       "   'text': {'beginOffset': 1028,\n",
       "    'content': 'Hope which was lost now stands renewed.'}},\n",
       "  {'sentiment': {'magnitude': 0.6, 'score': 0.6},\n",
       "   'text': {'beginOffset': 1068, 'content': 'I give my life to honor this.'}},\n",
       "  {'sentiment': {'magnitude': 0.9, 'score': 0.9},\n",
       "   'text': {'beginOffset': 1098, 'content': 'The love of Christ.'}},\n",
       "  {'sentiment': {'magnitude': 0.5, 'score': 0.5},\n",
       "   'text': {'beginOffset': 1118, 'content': 'The Saviour King'}}]}"
      ]
     },
     "execution_count": 95,
     "metadata": {},
     "output_type": "execute_result"
    }
   ],
   "source": [
    "url = 'https://language.googleapis.com/v1beta2/documents:analyzeSentiment?key='+apikey\n",
    "\n",
    "data = {\"document\": {\"type\":\"PLAIN_TEXT\",\"content\":lyric_final},\"encodingType\":\"UTF8\"}\n",
    "\n",
    "response = requests.post(url,json=data)\n",
    "json.loads(response.text)\n"
   ]
  },
  {
   "cell_type": "code",
   "execution_count": 96,
   "metadata": {},
   "outputs": [
    {
     "data": {
      "text/plain": [
       "{'documentSentiment': {'magnitude': 17.1, 'score': 0.3},\n",
       " 'language': 'en',\n",
       " 'sentences': [{'sentiment': {'magnitude': 0.3, 'score': -0.3},\n",
       "   'text': {'beginOffset': 0,\n",
       "    'content': 'Let now the weak say I have strength.'}},\n",
       "  {'sentiment': {'magnitude': 0.3, 'score': 0.3},\n",
       "   'text': {'beginOffset': 38, 'content': \"By the Spirit of pow'r.\"}},\n",
       "  {'sentiment': {'magnitude': 0.1, 'score': 0.1},\n",
       "   'text': {'beginOffset': 62,\n",
       "    'content': 'That raised Christ from the dead.'}},\n",
       "  {'sentiment': {'magnitude': 0.7, 'score': -0.7},\n",
       "   'text': {'beginOffset': 96,\n",
       "    'content': 'Let now the poor stand and confess.'}},\n",
       "  {'sentiment': {'magnitude': 0, 'score': 0},\n",
       "   'text': {'beginOffset': 132, 'content': 'That my portion in Him.'}},\n",
       "  {'sentiment': {'magnitude': 0.8, 'score': 0.8},\n",
       "   'text': {'beginOffset': 156, 'content': \"And I'm more then blessed.\"}},\n",
       "  {'sentiment': {'magnitude': 0.2, 'score': 0.2},\n",
       "   'text': {'beginOffset': 183,\n",
       "    'content': 'Let now our hearts burn with a flame.'}},\n",
       "  {'sentiment': {'magnitude': 0.4, 'score': 0.4},\n",
       "   'text': {'beginOffset': 221,\n",
       "    'content': \"A fire consuming all for Your Son's holy name.\"}},\n",
       "  {'sentiment': {'magnitude': 0.1, 'score': 0.1},\n",
       "   'text': {'beginOffset': 268,\n",
       "    'content': 'And with the heavens we declare.'}},\n",
       "  {'sentiment': {'magnitude': 0.1, 'score': 0.1},\n",
       "   'text': {'beginOffset': 301, 'content': 'You are our King.'}},\n",
       "  {'sentiment': {'magnitude': 0.8, 'score': 0.8},\n",
       "   'text': {'beginOffset': 319, 'content': 'We love You, Lord.'}},\n",
       "  {'sentiment': {'magnitude': 0.8, 'score': 0.8},\n",
       "   'text': {'beginOffset': 338, 'content': 'We Worship You.'}},\n",
       "  {'sentiment': {'magnitude': 0, 'score': 0},\n",
       "   'text': {'beginOffset': 354, 'content': 'You are our God.'}},\n",
       "  {'sentiment': {'magnitude': 0.6, 'score': 0.6},\n",
       "   'text': {'beginOffset': 371, 'content': 'You alone are good.'}},\n",
       "  {'sentiment': {'magnitude': 0.6, 'score': 0.6},\n",
       "   'text': {'beginOffset': 391,\n",
       "    'content': 'Let now Your church shine as your bride.'}},\n",
       "  {'sentiment': {'magnitude': 0.6, 'score': 0.6},\n",
       "   'text': {'beginOffset': 432, 'content': 'That You saw in Your heart.'}},\n",
       "  {'sentiment': {'magnitude': 0.6, 'score': 0.6},\n",
       "   'text': {'beginOffset': 460, 'content': 'As You offered up Your life.'}},\n",
       "  {'sentiment': {'magnitude': 0.5, 'score': -0.5},\n",
       "   'text': {'beginOffset': 489,\n",
       "    'content': 'Let now the lost be welcome home.'}},\n",
       "  {'sentiment': {'magnitude': 0.4, 'score': 0.4},\n",
       "   'text': {'beginOffset': 523, 'content': 'By the saved and redeemed.'}},\n",
       "  {'sentiment': {'magnitude': 0, 'score': 0},\n",
       "   'text': {'beginOffset': 550, 'content': 'Those adopted as Your own.'}},\n",
       "  {'sentiment': {'magnitude': 0.2, 'score': 0.2},\n",
       "   'text': {'beginOffset': 577,\n",
       "    'content': 'Let now our hearts burn with a flame.'}},\n",
       "  {'sentiment': {'magnitude': 0.4, 'score': 0.4},\n",
       "   'text': {'beginOffset': 615,\n",
       "    'content': \"A fire consuming all for Your Son's holy name.\"}},\n",
       "  {'sentiment': {'magnitude': 0.1, 'score': 0.1},\n",
       "   'text': {'beginOffset': 662,\n",
       "    'content': 'And with the heavens we declare.'}},\n",
       "  {'sentiment': {'magnitude': 0.1, 'score': 0.1},\n",
       "   'text': {'beginOffset': 695, 'content': 'You are our King.'}},\n",
       "  {'sentiment': {'magnitude': 0, 'score': 0},\n",
       "   'text': {'beginOffset': 713,\n",
       "    'content': 'You asked Your Son to carry this.'}},\n",
       "  {'sentiment': {'magnitude': 0, 'score': 0},\n",
       "   'text': {'beginOffset': 747, 'content': 'The heavy cross.'}},\n",
       "  {'sentiment': {'magnitude': 0, 'score': 0},\n",
       "   'text': {'beginOffset': 764, 'content': 'Our weight of sin.'}},\n",
       "  {'sentiment': {'magnitude': 0.8, 'score': 0.8},\n",
       "   'text': {'beginOffset': 783, 'content': 'I love You, Lord.'}},\n",
       "  {'sentiment': {'magnitude': 0.1, 'score': 0.1},\n",
       "   'text': {'beginOffset': 801, 'content': 'I Wwrship You.'}},\n",
       "  {'sentiment': {'magnitude': 0.2, 'score': 0.2},\n",
       "   'text': {'beginOffset': 816,\n",
       "    'content': 'Hope which was lost, now stands renewed.'}},\n",
       "  {'sentiment': {'magnitude': 0.6, 'score': 0.6},\n",
       "   'text': {'beginOffset': 857, 'content': 'I give my life to honor this.'}},\n",
       "  {'sentiment': {'magnitude': 0.9, 'score': 0.9},\n",
       "   'text': {'beginOffset': 887, 'content': 'The love of Christ.'}},\n",
       "  {'sentiment': {'magnitude': 0.5, 'score': 0.5},\n",
       "   'text': {'beginOffset': 907, 'content': 'The Saviour King.'}},\n",
       "  {'sentiment': {'magnitude': 0, 'score': 0},\n",
       "   'text': {'beginOffset': 925,\n",
       "    'content': 'You asked Your Son to carry this.'}},\n",
       "  {'sentiment': {'magnitude': 0, 'score': 0},\n",
       "   'text': {'beginOffset': 959, 'content': 'The heavy cross.'}},\n",
       "  {'sentiment': {'magnitude': 0, 'score': 0},\n",
       "   'text': {'beginOffset': 976, 'content': 'Our weight of sin.'}},\n",
       "  {'sentiment': {'magnitude': 0.8, 'score': 0.8},\n",
       "   'text': {'beginOffset': 995, 'content': 'I love You, Lord.'}},\n",
       "  {'sentiment': {'magnitude': 0.6, 'score': 0.6},\n",
       "   'text': {'beginOffset': 1013, 'content': 'I worship You.'}},\n",
       "  {'sentiment': {'magnitude': 0, 'score': 0},\n",
       "   'text': {'beginOffset': 1028,\n",
       "    'content': 'Hope which was lost now stands renewed.'}},\n",
       "  {'sentiment': {'magnitude': 0.6, 'score': 0.6},\n",
       "   'text': {'beginOffset': 1068, 'content': 'I give my life to honor this.'}},\n",
       "  {'sentiment': {'magnitude': 0.9, 'score': 0.9},\n",
       "   'text': {'beginOffset': 1098, 'content': 'The love of Christ.'}},\n",
       "  {'sentiment': {'magnitude': 0.5, 'score': 0.5},\n",
       "   'text': {'beginOffset': 1118, 'content': 'The Saviour King'}}]}"
      ]
     },
     "execution_count": 96,
     "metadata": {},
     "output_type": "execute_result"
    }
   ],
   "source": [
    "json.loads(response.text)"
   ]
  },
  {
   "cell_type": "markdown",
   "metadata": {
    "collapsed": true
   },
   "source": [
    "Spotify API\n",
    "https://developer.spotify.com/web-api/console/get-search-item/"
   ]
  },
  {
   "cell_type": "code",
   "execution_count": 108,
   "metadata": {},
   "outputs": [
    {
     "name": "stdout",
     "output_type": "stream",
     "text": [
      "https://api.spotify.com/v1/search?q=don%20moen&type=artist\n",
      "['2JGLjTHV2t8u8wxmLaiFfe', 'Don Moen', ['ccm', 'christian christmas', 'christian music', 'christian relaxative', 'world worship', 'worship'], 57, 61351]\n"
     ]
    }
   ],
   "source": [
    "#Get Artist\n",
    "search = \"don moen\".replace(\" \",\"%20\")              \n",
    "\n",
    "url = 'https://api.spotify.com/v1/search?q='+search+'&type=artist'\n",
    "print(url)\n",
    "\n",
    "artist = requests.get(url,headers=header).json()\n",
    "# print(artist)\n",
    "popularity = 0 \n",
    "for i in artist['artists']['items']:\n",
    "    if i['popularity'] > popularity:\n",
    "        popularity = i['popularity']\n",
    "        artist = [i['id'],i['name'],i['genres'],i['popularity'],i['followers']['total']]\n",
    "print(artist)    \n",
    "#     print(i['genres'])\n",
    "#     print(i['popularity'])\n",
    "#     print(i['followers']['total'])\n",
    "#     print(i['name'])\n",
    "#     print(i['id'])\n",
    "#     print('--------------')"
   ]
  },
  {
   "cell_type": "code",
   "execution_count": 109,
   "metadata": {},
   "outputs": [
    {
     "name": "stdout",
     "output_type": "stream",
     "text": [
      "https://api.spotify.com/v1/artists/2JGLjTHV2t8u8wxmLaiFfe/albums?offset=20&limit=20&album_type=single,album,compilation,appears_on,ep\n",
      "https://api.spotify.com/v1/artists/2JGLjTHV2t8u8wxmLaiFfe/albums?offset=40&limit=20&album_type=single,album,compilation,appears_on,ep\n",
      "https://api.spotify.com/v1/artists/2JGLjTHV2t8u8wxmLaiFfe/albums?offset=60&limit=20&album_type=single,album,compilation,appears_on,ep\n",
      "https://api.spotify.com/v1/artists/2JGLjTHV2t8u8wxmLaiFfe/albums?offset=80&limit=20&album_type=single,album,compilation,appears_on,ep\n",
      "https://api.spotify.com/v1/artists/2JGLjTHV2t8u8wxmLaiFfe/albums?offset=100&limit=20&album_type=single,album,compilation,appears_on,ep\n",
      "https://api.spotify.com/v1/artists/2JGLjTHV2t8u8wxmLaiFfe/albums?offset=120&limit=20&album_type=single,album,compilation,appears_on,ep\n",
      "131\n",
      "131\n"
     ]
    }
   ],
   "source": [
    "# Get Albums\n",
    "columns = ['album_name','album_id','album_type']\n",
    "df_albums = pd.DataFrame(columns=columns)\n",
    "\n",
    "url = 'https://api.spotify.com/v1/artists/'+artist[0]+\"/albums\"\n",
    "# print(url)\n",
    "\n",
    "iter = 0\n",
    "albums = requests.get(url,headers=header).json()\n",
    "while True:\n",
    "    for a in albums['items']:\n",
    "        row = [a['name'],a['id'],a['album_type']]\n",
    "        df_albums.loc[len(df_albums)] = row  \n",
    "    if (albums['next'] == None)|(iter>10) : \n",
    "        break\n",
    "    else: \n",
    "        print(albums['next'])\n",
    "        albums = requests.get(albums['next'],headers=header).json()\n",
    "        iter = iter + 1\n",
    "\n",
    "print(len(df_albums))\n",
    "print(len(df_albums['album_id'].unique()))"
   ]
  },
  {
   "cell_type": "code",
   "execution_count": 110,
   "metadata": {},
   "outputs": [
    {
     "name": "stdout",
     "output_type": "stream",
     "text": [
      "131\n",
      "131\n"
     ]
    },
    {
     "data": {
      "text/html": [
       "<div>\n",
       "<table border=\"1\" class=\"dataframe\">\n",
       "  <thead>\n",
       "    <tr style=\"text-align: right;\">\n",
       "      <th></th>\n",
       "      <th>album_popularity</th>\n",
       "      <th>release_date</th>\n",
       "      <th>album_name</th>\n",
       "      <th>album_id</th>\n",
       "      <th>type</th>\n",
       "    </tr>\n",
       "  </thead>\n",
       "  <tbody>\n",
       "    <tr>\n",
       "      <th>0</th>\n",
       "      <td>46</td>\n",
       "      <td>2017-03-17</td>\n",
       "      <td>By Special Request, Vol. 2</td>\n",
       "      <td>1rGJxKpbnORboAOUlTl2Ce</td>\n",
       "      <td>album</td>\n",
       "    </tr>\n",
       "    <tr>\n",
       "      <th>1</th>\n",
       "      <td>45</td>\n",
       "      <td>2016-03-17</td>\n",
       "      <td>God Will Make a Way: A Worship Musical</td>\n",
       "      <td>5hI5xxTPve0tlpUvmdFP6l</td>\n",
       "      <td>album</td>\n",
       "    </tr>\n",
       "    <tr>\n",
       "      <th>2</th>\n",
       "      <td>41</td>\n",
       "      <td>2015-10-05</td>\n",
       "      <td>By Special Request: Vol. 1</td>\n",
       "      <td>0mcib3bdk3MywTW1F43V1i</td>\n",
       "      <td>album</td>\n",
       "    </tr>\n",
       "  </tbody>\n",
       "</table>\n",
       "</div>"
      ],
      "text/plain": [
       "   album_popularity release_date                              album_name  \\\n",
       "0                46   2017-03-17              By Special Request, Vol. 2   \n",
       "1                45   2016-03-17  God Will Make a Way: A Worship Musical   \n",
       "2                41   2015-10-05              By Special Request: Vol. 1   \n",
       "\n",
       "                 album_id   type  \n",
       "0  1rGJxKpbnORboAOUlTl2Ce  album  \n",
       "1  5hI5xxTPve0tlpUvmdFP6l  album  \n",
       "2  0mcib3bdk3MywTW1F43V1i  album  "
      ]
     },
     "execution_count": 110,
     "metadata": {},
     "output_type": "execute_result"
    }
   ],
   "source": [
    "query_album_id = df_albums['album_id']\n",
    "\n",
    "list_album_df = []\n",
    "start = 0 \n",
    "end = 0 \n",
    "max_per_call = 20\n",
    "iteration = math.ceil(len(query_album_id)/max_per_call)\n",
    "\n",
    "for i in range(iteration):\n",
    "    start = i*max_per_call\n",
    "    end = start+max_per_call\n",
    "    query_multiple = ','.join(query_album_id[start:end])\n",
    "    \n",
    "    album_url = \"https://api.spotify.com/v1/albums/?ids=\"+query_multiple\n",
    "\n",
    "    album_detail = requests.get(album_url,headers=header).json()\n",
    "        \n",
    "    adf = pd.DataFrame(album_detail['albums']).loc[:,['popularity','release_date','name','id','type']]\n",
    "    \n",
    "    list_album_df.append(adf)\n",
    "\n",
    "dfalbums = pd.concat(list_album_df)\n",
    "dfalbums=dfalbums.rename(columns = {'id':'album_id'})\n",
    "dfalbums=dfalbums.rename(columns = {'name':'album_name'})\n",
    "dfalbums=dfalbums.rename(columns = {'popularity':'album_popularity'})\n",
    "\n",
    "print(len(dfalbums))\n",
    "print(len(dfalbums['album_id'].unique()))\n",
    "dfalbums.head(3)"
   ]
  },
  {
   "cell_type": "code",
   "execution_count": 111,
   "metadata": {},
   "outputs": [
    {
     "name": "stdout",
     "output_type": "stream",
     "text": [
      "9\n",
      "2362\n"
     ]
    }
   ],
   "source": [
    "# Get Tracks ID in Albums\n",
    "# Loop all albums\n",
    "\n",
    "columns = ['album_name','album_id','release_date','album_popularity','album_type','track_id','track_name','track_artist']\n",
    "dftracks = pd.DataFrame(columns=columns)\n",
    "\n",
    "for key,row in dfalbums.iterrows():\n",
    "    pause = randint(0,1)\n",
    "    time.sleep(pause)\n",
    "#     print(row['album_id'])\n",
    "    url = 'https://api.spotify.com/v1/albums/'+row['album_id']+\"/tracks\"\n",
    "#     print(url)\n",
    "    tracks = requests.get(url,headers=header).json()\n",
    "    iter = 0 \n",
    "    while True:\n",
    "        \n",
    "        for t in tracks['items']:\n",
    "            insert = [row['album_name'],row['album_id'],row['release_date'],row['album_popularity'],row['type'],t['id'],t['name'],t['artists'][0]['name']]\n",
    "            dftracks.loc[len(dftracks)] = insert\n",
    "            \n",
    "        if (tracks['next'] == None)|(iter>5) : \n",
    "            break\n",
    "        else: \n",
    "            tracks = requests.get(tracks['next'],headers=header).json()\n",
    "            iter = iter + 1\n",
    "\n",
    "\n",
    "print(len(dftracks[dftracks['track_artist']=='Twila Paris']))\n",
    "print(len(dftracks))\n"
   ]
  },
  {
   "cell_type": "code",
   "execution_count": 114,
   "metadata": {},
   "outputs": [
    {
     "ename": "AttributeError",
     "evalue": "'NoneType' object has no attribute 'keys'",
     "output_type": "error",
     "traceback": [
      "\u001b[0;31m---------------------------------------------------------------------------\u001b[0m",
      "\u001b[0;31mAttributeError\u001b[0m                            Traceback (most recent call last)",
      "\u001b[0;32m<ipython-input-114-33f77e343eb9>\u001b[0m in \u001b[0;36m<module>\u001b[0;34m()\u001b[0m\n\u001b[1;32m     20\u001b[0m     \u001b[0mtrack_details\u001b[0m \u001b[0;34m=\u001b[0m \u001b[0mrequests\u001b[0m\u001b[0;34m.\u001b[0m\u001b[0mget\u001b[0m\u001b[0;34m(\u001b[0m\u001b[0mtrack_url\u001b[0m\u001b[0;34m,\u001b[0m\u001b[0mheaders\u001b[0m\u001b[0;34m=\u001b[0m\u001b[0mheader\u001b[0m\u001b[0;34m)\u001b[0m\u001b[0;34m.\u001b[0m\u001b[0mjson\u001b[0m\u001b[0;34m(\u001b[0m\u001b[0;34m)\u001b[0m\u001b[0;34m\u001b[0m\u001b[0m\n\u001b[1;32m     21\u001b[0m \u001b[0;34m\u001b[0m\u001b[0m\n\u001b[0;32m---> 22\u001b[0;31m     \u001b[0mdf\u001b[0m \u001b[0;34m=\u001b[0m \u001b[0mpd\u001b[0m\u001b[0;34m.\u001b[0m\u001b[0mDataFrame\u001b[0m\u001b[0;34m(\u001b[0m\u001b[0mtrack_features\u001b[0m\u001b[0;34m[\u001b[0m\u001b[0;34m'audio_features'\u001b[0m\u001b[0;34m]\u001b[0m\u001b[0;34m)\u001b[0m\u001b[0;34m.\u001b[0m\u001b[0mloc\u001b[0m\u001b[0;34m[\u001b[0m\u001b[0;34m:\u001b[0m\u001b[0;34m,\u001b[0m\u001b[0;34m[\u001b[0m\u001b[0;34m'acousticness'\u001b[0m\u001b[0;34m,\u001b[0m\u001b[0;34m'danceability'\u001b[0m\u001b[0;34m,\u001b[0m\u001b[0;34m'duration_ms'\u001b[0m\u001b[0;34m,\u001b[0m\u001b[0;34m'energy'\u001b[0m\u001b[0;34m,\u001b[0m\u001b[0;34m'id'\u001b[0m\u001b[0;34m,\u001b[0m\u001b[0;34m'instrumentalness'\u001b[0m\u001b[0;34m,\u001b[0m\u001b[0;34m'key'\u001b[0m\u001b[0;34m,\u001b[0m\u001b[0;34m'liveness'\u001b[0m\u001b[0;34m,\u001b[0m\u001b[0;34m'loudness'\u001b[0m\u001b[0;34m,\u001b[0m\u001b[0;34m'mode'\u001b[0m\u001b[0;34m,\u001b[0m\u001b[0;34m'speechiness'\u001b[0m\u001b[0;34m,\u001b[0m\u001b[0;34m'tempo'\u001b[0m\u001b[0;34m,\u001b[0m\u001b[0;34m'time_signature'\u001b[0m\u001b[0;34m,\u001b[0m\u001b[0;34m'valence'\u001b[0m\u001b[0;34m]\u001b[0m\u001b[0;34m]\u001b[0m\u001b[0;34m\u001b[0m\u001b[0m\n\u001b[0m\u001b[1;32m     23\u001b[0m     \u001b[0mtf\u001b[0m \u001b[0;34m=\u001b[0m \u001b[0mpd\u001b[0m\u001b[0;34m.\u001b[0m\u001b[0mDataFrame\u001b[0m\u001b[0;34m(\u001b[0m\u001b[0mtrack_details\u001b[0m\u001b[0;34m[\u001b[0m\u001b[0;34m'tracks'\u001b[0m\u001b[0;34m]\u001b[0m\u001b[0;34m)\u001b[0m\u001b[0;34m.\u001b[0m\u001b[0mloc\u001b[0m\u001b[0;34m[\u001b[0m\u001b[0;34m:\u001b[0m\u001b[0;34m,\u001b[0m\u001b[0;34m[\u001b[0m\u001b[0;34m'id'\u001b[0m\u001b[0;34m,\u001b[0m\u001b[0;34m'name'\u001b[0m\u001b[0;34m,\u001b[0m\u001b[0;34m'artists'\u001b[0m\u001b[0;34m]\u001b[0m\u001b[0;34m]\u001b[0m\u001b[0;34m\u001b[0m\u001b[0m\n\u001b[1;32m     24\u001b[0m \u001b[0;34m\u001b[0m\u001b[0m\n",
      "\u001b[0;32m/home/chenjennhaur/anaconda3/lib/python3.5/site-packages/pandas/core/frame.py\u001b[0m in \u001b[0;36m__init__\u001b[0;34m(self, data, index, columns, dtype, copy)\u001b[0m\n\u001b[1;32m    261\u001b[0m                     \u001b[0;32mif\u001b[0m \u001b[0mcom\u001b[0m\u001b[0;34m.\u001b[0m\u001b[0mis_named_tuple\u001b[0m\u001b[0;34m(\u001b[0m\u001b[0mdata\u001b[0m\u001b[0;34m[\u001b[0m\u001b[0;36m0\u001b[0m\u001b[0;34m]\u001b[0m\u001b[0;34m)\u001b[0m \u001b[0;32mand\u001b[0m \u001b[0mcolumns\u001b[0m \u001b[0;32mis\u001b[0m \u001b[0;32mNone\u001b[0m\u001b[0;34m:\u001b[0m\u001b[0;34m\u001b[0m\u001b[0m\n\u001b[1;32m    262\u001b[0m                         \u001b[0mcolumns\u001b[0m \u001b[0;34m=\u001b[0m \u001b[0mdata\u001b[0m\u001b[0;34m[\u001b[0m\u001b[0;36m0\u001b[0m\u001b[0;34m]\u001b[0m\u001b[0;34m.\u001b[0m\u001b[0m_fields\u001b[0m\u001b[0;34m\u001b[0m\u001b[0m\n\u001b[0;32m--> 263\u001b[0;31m                     \u001b[0marrays\u001b[0m\u001b[0;34m,\u001b[0m \u001b[0mcolumns\u001b[0m \u001b[0;34m=\u001b[0m \u001b[0m_to_arrays\u001b[0m\u001b[0;34m(\u001b[0m\u001b[0mdata\u001b[0m\u001b[0;34m,\u001b[0m \u001b[0mcolumns\u001b[0m\u001b[0;34m,\u001b[0m \u001b[0mdtype\u001b[0m\u001b[0;34m=\u001b[0m\u001b[0mdtype\u001b[0m\u001b[0;34m)\u001b[0m\u001b[0;34m\u001b[0m\u001b[0m\n\u001b[0m\u001b[1;32m    264\u001b[0m                     \u001b[0mcolumns\u001b[0m \u001b[0;34m=\u001b[0m \u001b[0m_ensure_index\u001b[0m\u001b[0;34m(\u001b[0m\u001b[0mcolumns\u001b[0m\u001b[0;34m)\u001b[0m\u001b[0;34m\u001b[0m\u001b[0m\n\u001b[1;32m    265\u001b[0m \u001b[0;34m\u001b[0m\u001b[0m\n",
      "\u001b[0;32m/home/chenjennhaur/anaconda3/lib/python3.5/site-packages/pandas/core/frame.py\u001b[0m in \u001b[0;36m_to_arrays\u001b[0;34m(data, columns, coerce_float, dtype)\u001b[0m\n\u001b[1;32m   5353\u001b[0m     \u001b[0;32melif\u001b[0m \u001b[0misinstance\u001b[0m\u001b[0;34m(\u001b[0m\u001b[0mdata\u001b[0m\u001b[0;34m[\u001b[0m\u001b[0;36m0\u001b[0m\u001b[0;34m]\u001b[0m\u001b[0;34m,\u001b[0m \u001b[0mcollections\u001b[0m\u001b[0;34m.\u001b[0m\u001b[0mMapping\u001b[0m\u001b[0;34m)\u001b[0m\u001b[0;34m:\u001b[0m\u001b[0;34m\u001b[0m\u001b[0m\n\u001b[1;32m   5354\u001b[0m         return _list_of_dict_to_arrays(data, columns,\n\u001b[0;32m-> 5355\u001b[0;31m                                        coerce_float=coerce_float, dtype=dtype)\n\u001b[0m\u001b[1;32m   5356\u001b[0m     \u001b[0;32melif\u001b[0m \u001b[0misinstance\u001b[0m\u001b[0;34m(\u001b[0m\u001b[0mdata\u001b[0m\u001b[0;34m[\u001b[0m\u001b[0;36m0\u001b[0m\u001b[0;34m]\u001b[0m\u001b[0;34m,\u001b[0m \u001b[0mSeries\u001b[0m\u001b[0;34m)\u001b[0m\u001b[0;34m:\u001b[0m\u001b[0;34m\u001b[0m\u001b[0m\n\u001b[1;32m   5357\u001b[0m         return _list_of_series_to_arrays(data, columns,\n",
      "\u001b[0;32m/home/chenjennhaur/anaconda3/lib/python3.5/site-packages/pandas/core/frame.py\u001b[0m in \u001b[0;36m_list_of_dict_to_arrays\u001b[0;34m(data, columns, coerce_float, dtype)\u001b[0m\n\u001b[1;32m   5469\u001b[0m     \u001b[0;32mif\u001b[0m \u001b[0mcolumns\u001b[0m \u001b[0;32mis\u001b[0m \u001b[0;32mNone\u001b[0m\u001b[0;34m:\u001b[0m\u001b[0;34m\u001b[0m\u001b[0m\n\u001b[1;32m   5470\u001b[0m         \u001b[0mgen\u001b[0m \u001b[0;34m=\u001b[0m \u001b[0;34m(\u001b[0m\u001b[0mlist\u001b[0m\u001b[0;34m(\u001b[0m\u001b[0mx\u001b[0m\u001b[0;34m.\u001b[0m\u001b[0mkeys\u001b[0m\u001b[0;34m(\u001b[0m\u001b[0;34m)\u001b[0m\u001b[0;34m)\u001b[0m \u001b[0;32mfor\u001b[0m \u001b[0mx\u001b[0m \u001b[0;32min\u001b[0m \u001b[0mdata\u001b[0m\u001b[0;34m)\u001b[0m\u001b[0;34m\u001b[0m\u001b[0m\n\u001b[0;32m-> 5471\u001b[0;31m         \u001b[0mcolumns\u001b[0m \u001b[0;34m=\u001b[0m \u001b[0mlib\u001b[0m\u001b[0;34m.\u001b[0m\u001b[0mfast_unique_multiple_list_gen\u001b[0m\u001b[0;34m(\u001b[0m\u001b[0mgen\u001b[0m\u001b[0;34m)\u001b[0m\u001b[0;34m\u001b[0m\u001b[0m\n\u001b[0m\u001b[1;32m   5472\u001b[0m \u001b[0;34m\u001b[0m\u001b[0m\n\u001b[1;32m   5473\u001b[0m     \u001b[0;31m# assure that they are of the base dict class and not of derived\u001b[0m\u001b[0;34m\u001b[0m\u001b[0;34m\u001b[0m\u001b[0m\n",
      "\u001b[0;32mpandas/lib.pyx\u001b[0m in \u001b[0;36mpandas.lib.fast_unique_multiple_list_gen (pandas/lib.c:10190)\u001b[0;34m()\u001b[0m\n",
      "\u001b[0;32m/home/chenjennhaur/anaconda3/lib/python3.5/site-packages/pandas/core/frame.py\u001b[0m in \u001b[0;36m<genexpr>\u001b[0;34m(.0)\u001b[0m\n\u001b[1;32m   5468\u001b[0m \u001b[0;32mdef\u001b[0m \u001b[0m_list_of_dict_to_arrays\u001b[0m\u001b[0;34m(\u001b[0m\u001b[0mdata\u001b[0m\u001b[0;34m,\u001b[0m \u001b[0mcolumns\u001b[0m\u001b[0;34m,\u001b[0m \u001b[0mcoerce_float\u001b[0m\u001b[0;34m=\u001b[0m\u001b[0;32mFalse\u001b[0m\u001b[0;34m,\u001b[0m \u001b[0mdtype\u001b[0m\u001b[0;34m=\u001b[0m\u001b[0;32mNone\u001b[0m\u001b[0;34m)\u001b[0m\u001b[0;34m:\u001b[0m\u001b[0;34m\u001b[0m\u001b[0m\n\u001b[1;32m   5469\u001b[0m     \u001b[0;32mif\u001b[0m \u001b[0mcolumns\u001b[0m \u001b[0;32mis\u001b[0m \u001b[0;32mNone\u001b[0m\u001b[0;34m:\u001b[0m\u001b[0;34m\u001b[0m\u001b[0m\n\u001b[0;32m-> 5470\u001b[0;31m         \u001b[0mgen\u001b[0m \u001b[0;34m=\u001b[0m \u001b[0;34m(\u001b[0m\u001b[0mlist\u001b[0m\u001b[0;34m(\u001b[0m\u001b[0mx\u001b[0m\u001b[0;34m.\u001b[0m\u001b[0mkeys\u001b[0m\u001b[0;34m(\u001b[0m\u001b[0;34m)\u001b[0m\u001b[0;34m)\u001b[0m \u001b[0;32mfor\u001b[0m \u001b[0mx\u001b[0m \u001b[0;32min\u001b[0m \u001b[0mdata\u001b[0m\u001b[0;34m)\u001b[0m\u001b[0;34m\u001b[0m\u001b[0m\n\u001b[0m\u001b[1;32m   5471\u001b[0m         \u001b[0mcolumns\u001b[0m \u001b[0;34m=\u001b[0m \u001b[0mlib\u001b[0m\u001b[0;34m.\u001b[0m\u001b[0mfast_unique_multiple_list_gen\u001b[0m\u001b[0;34m(\u001b[0m\u001b[0mgen\u001b[0m\u001b[0;34m)\u001b[0m\u001b[0;34m\u001b[0m\u001b[0m\n\u001b[1;32m   5472\u001b[0m \u001b[0;34m\u001b[0m\u001b[0m\n",
      "\u001b[0;31mAttributeError\u001b[0m: 'NoneType' object has no attribute 'keys'"
     ]
    }
   ],
   "source": [
    "query_list = dftracks['track_id']\n",
    "len(query_list)\n",
    "\n",
    "list_df = []\n",
    "start = 0 \n",
    "end = 0 \n",
    "max_per_call = 50\n",
    "iteration = math.ceil(len(query_list)/max_per_call)\n",
    "\n",
    "for i in range(iteration):\n",
    "    start = i*max_per_call\n",
    "    end = start+max_per_call\n",
    "    query_multiple = ','.join(query_list[start:end])\n",
    "#     print(query_multiple)\n",
    "    \n",
    "    feature_url = 'https://api.spotify.com/v1/audio-features?ids='+query_multiple\n",
    "    track_url = 'https://api.spotify.com/v1/tracks?ids='+query_multiple\n",
    "\n",
    "    track_features = requests.get(feature_url,headers=header).json()\n",
    "    track_details = requests.get(track_url,headers=header).json()\n",
    "    \n",
    "    df = pd.DataFrame(track_features['audio_features']).loc[:,['acousticness','danceability','duration_ms','energy','id','instrumentalness','key','liveness','loudness','mode','speechiness','tempo','time_signature','valence']]\n",
    "    tf = pd.DataFrame(track_details['tracks']).loc[:,['id','name','artists']]\n",
    "\n",
    "    consolidated_features = tf.merge(df,how='inner')\n",
    "    list_df.append(consolidated_features)\n",
    "\n"
   ]
  },
  {
   "cell_type": "code",
   "execution_count": null,
   "metadata": {},
   "outputs": [],
   "source": [
    "final_track_df = pd.concat(list_df)\n",
    "\n",
    "def artist(x):\n",
    "#     artist_list[artist_list['Genre']=='Band'].iloc[20,0].split('\\xa0')[0]\n",
    "    return x['artists'][0]['name']\n",
    "    \n",
    "final_track_df['singer'] = final_track_df.apply(lambda x:artist(x),axis=1)\n",
    "del final_track_df['artists']\n",
    "final_track_df.head(3)\n",
    "\n",
    "\n",
    "# for tf in track_features['audio_features']:\n",
    "#     print(tf)\n",
    "# for td in track_details['tracks']:\n",
    "#     print(td['id'],td['name'],td['popularity'])"
   ]
  },
  {
   "cell_type": "code",
   "execution_count": null,
   "metadata": {},
   "outputs": [],
   "source": [
    "print(len(final_track_df['id'].unique()))\n",
    "print(len(final_track_df))\n",
    "\n",
    "print(len(dftracks['track_id'].unique()))\n",
    "print(len(dftracks))"
   ]
  },
  {
   "cell_type": "code",
   "execution_count": null,
   "metadata": {},
   "outputs": [],
   "source": [
    "final_df = final_track_df.merge(dftracks,left_on='id',right_on='track_id',how='inner')"
   ]
  },
  {
   "cell_type": "code",
   "execution_count": null,
   "metadata": {},
   "outputs": [],
   "source": [
    "print(len(final_df))\n",
    "final_df.head(3)"
   ]
  },
  {
   "cell_type": "code",
   "execution_count": 107,
   "metadata": {},
   "outputs": [],
   "source": [
    "final_df.to_sql('tracks_analysis',conn,if_exists='append')"
   ]
  },
  {
   "cell_type": "code",
   "execution_count": 69,
   "metadata": {
    "collapsed": true
   },
   "outputs": [],
   "source": [
    "final_df.to_csv('michael_card.csv')"
   ]
  },
  {
   "cell_type": "code",
   "execution_count": null,
   "metadata": {
    "collapsed": true
   },
   "outputs": [],
   "source": [
    "response.request.headers"
   ]
  },
  {
   "cell_type": "markdown",
   "metadata": {},
   "source": [
    "Musixmatch\n",
    "https://developer.musixmatch.com/"
   ]
  }
 ],
 "metadata": {
  "anaconda-cloud": {},
  "kernelspec": {
   "display_name": "Python [Root]",
   "language": "python",
   "name": "Python [Root]"
  },
  "language_info": {
   "codemirror_mode": {
    "name": "ipython",
    "version": 3
   },
   "file_extension": ".py",
   "mimetype": "text/x-python",
   "name": "python",
   "nbconvert_exporter": "python",
   "pygments_lexer": "ipython3",
   "version": "3.5.2"
  }
 },
 "nbformat": 4,
 "nbformat_minor": 1
}
